{
 "cells": [
  {
   "cell_type": "code",
   "execution_count": 1,
   "id": "aa363484",
   "metadata": {
    "ExecuteTime": {
     "end_time": "2022-09-04T09:49:39.144311Z",
     "start_time": "2022-09-04T09:49:38.641284Z"
    }
   },
   "outputs": [],
   "source": [
    "# Kütüphanenin eklenmesi\n",
    "import pandas as pd\n",
    "import numpy as np"
   ]
  },
  {
   "cell_type": "markdown",
   "id": "5b9e9876",
   "metadata": {},
   "source": [
    "## Pandas serisi yapma"
   ]
  },
  {
   "cell_type": "code",
   "execution_count": 2,
   "id": "efa24401",
   "metadata": {
    "ExecuteTime": {
     "end_time": "2022-09-04T09:49:39.160311Z",
     "start_time": "2022-09-04T09:49:39.145312Z"
    }
   },
   "outputs": [],
   "source": [
    "labels = ['a', 'b', 'c']\n",
    "my_list = [10, 20, 30]\n",
    "arr = np.array([10, 20, 30])\n",
    "d = {'a': 10, 'b': 20, 'c': 30}"
   ]
  },
  {
   "cell_type": "code",
   "execution_count": 3,
   "id": "c45f3c9d",
   "metadata": {
    "ExecuteTime": {
     "end_time": "2022-09-04T09:49:39.176314Z",
     "start_time": "2022-09-04T09:49:39.161310Z"
    }
   },
   "outputs": [
    {
     "data": {
      "text/plain": [
       "0    a\n",
       "1    b\n",
       "2    c\n",
       "dtype: object"
      ]
     },
     "execution_count": 3,
     "metadata": {},
     "output_type": "execute_result"
    }
   ],
   "source": [
    "pd.Series(labels)"
   ]
  },
  {
   "cell_type": "code",
   "execution_count": 4,
   "id": "dae5e160",
   "metadata": {
    "ExecuteTime": {
     "end_time": "2022-09-04T09:49:39.192281Z",
     "start_time": "2022-09-04T09:49:39.177282Z"
    }
   },
   "outputs": [
    {
     "data": {
      "text/plain": [
       "a    10\n",
       "b    20\n",
       "c    30\n",
       "dtype: int64"
      ]
     },
     "execution_count": 4,
     "metadata": {},
     "output_type": "execute_result"
    }
   ],
   "source": [
    "pd.Series([10, 20, 30],index=labels)"
   ]
  },
  {
   "cell_type": "code",
   "execution_count": 5,
   "id": "9eaeef67",
   "metadata": {
    "ExecuteTime": {
     "end_time": "2022-09-04T09:49:39.207310Z",
     "start_time": "2022-09-04T09:49:39.193284Z"
    }
   },
   "outputs": [
    {
     "data": {
      "text/plain": [
       "0    10\n",
       "1    20\n",
       "2    30\n",
       "dtype: int64"
      ]
     },
     "execution_count": 5,
     "metadata": {},
     "output_type": "execute_result"
    }
   ],
   "source": [
    "pd.Series(my_list)"
   ]
  },
  {
   "cell_type": "markdown",
   "id": "64e13c48",
   "metadata": {},
   "source": [
    "## Serisini Özellikleri & Fonksiyonları"
   ]
  },
  {
   "cell_type": "code",
   "execution_count": 6,
   "id": "e29fdc2c",
   "metadata": {
    "ExecuteTime": {
     "end_time": "2022-09-04T09:49:39.223312Z",
     "start_time": "2022-09-04T09:49:39.208282Z"
    }
   },
   "outputs": [
    {
     "name": "stdout",
     "output_type": "stream",
     "text": [
      "0    F\n",
      "1    r\n",
      "2    a\n",
      "3    n\n",
      "4    k\n",
      "dtype: object\n"
     ]
    }
   ],
   "source": [
    "data = np.array(['F','r','a','n','k'])\n",
    "ser = pd.Series(data)\n",
    "print(ser)"
   ]
  },
  {
   "cell_type": "code",
   "execution_count": 7,
   "id": "ab8ef94f",
   "metadata": {
    "ExecuteTime": {
     "end_time": "2022-09-04T09:49:39.239306Z",
     "start_time": "2022-09-04T09:49:39.224317Z"
    }
   },
   "outputs": [
    {
     "data": {
      "text/plain": [
       "dtype('O')"
      ]
     },
     "execution_count": 7,
     "metadata": {},
     "output_type": "execute_result"
    }
   ],
   "source": [
    "ser.dtype"
   ]
  },
  {
   "cell_type": "code",
   "execution_count": 8,
   "id": "c36a4b25",
   "metadata": {
    "ExecuteTime": {
     "end_time": "2022-09-04T09:49:39.255311Z",
     "start_time": "2022-09-04T09:49:39.240319Z"
    }
   },
   "outputs": [
    {
     "data": {
      "text/plain": [
       "(5,)"
      ]
     },
     "execution_count": 8,
     "metadata": {},
     "output_type": "execute_result"
    }
   ],
   "source": [
    "ser.shape"
   ]
  },
  {
   "cell_type": "code",
   "execution_count": 9,
   "id": "33013aff",
   "metadata": {
    "ExecuteTime": {
     "end_time": "2022-09-04T09:49:39.271284Z",
     "start_time": "2022-09-04T09:49:39.257282Z"
    }
   },
   "outputs": [
    {
     "data": {
      "text/plain": [
       "5"
      ]
     },
     "execution_count": 9,
     "metadata": {},
     "output_type": "execute_result"
    }
   ],
   "source": [
    "ser.size"
   ]
  },
  {
   "cell_type": "code",
   "execution_count": 10,
   "id": "b609cdad",
   "metadata": {
    "ExecuteTime": {
     "end_time": "2022-09-04T09:49:39.287310Z",
     "start_time": "2022-09-04T09:49:39.272281Z"
    }
   },
   "outputs": [
    {
     "data": {
      "text/plain": [
       "1"
      ]
     },
     "execution_count": 10,
     "metadata": {},
     "output_type": "execute_result"
    }
   ],
   "source": [
    "ser.ndim"
   ]
  },
  {
   "cell_type": "code",
   "execution_count": 11,
   "id": "d51512e1",
   "metadata": {
    "ExecuteTime": {
     "end_time": "2022-09-04T09:49:39.303312Z",
     "start_time": "2022-09-04T09:49:39.288282Z"
    }
   },
   "outputs": [
    {
     "data": {
      "text/plain": [
       "RangeIndex(start=0, stop=5, step=1)"
      ]
     },
     "execution_count": 11,
     "metadata": {},
     "output_type": "execute_result"
    }
   ],
   "source": [
    "ser.index"
   ]
  },
  {
   "cell_type": "code",
   "execution_count": 12,
   "id": "3b48e96d",
   "metadata": {
    "ExecuteTime": {
     "end_time": "2022-09-04T09:49:39.319310Z",
     "start_time": "2022-09-04T09:49:39.304283Z"
    }
   },
   "outputs": [
    {
     "data": {
      "text/plain": [
       "RangeIndex(start=0, stop=5, step=1)"
      ]
     },
     "execution_count": 12,
     "metadata": {},
     "output_type": "execute_result"
    }
   ],
   "source": [
    "ser.keys()\n"
   ]
  },
  {
   "cell_type": "code",
   "execution_count": 13,
   "id": "3fdb4478",
   "metadata": {
    "ExecuteTime": {
     "end_time": "2022-09-04T09:49:39.335282Z",
     "start_time": "2022-09-04T09:49:39.320282Z"
    }
   },
   "outputs": [
    {
     "data": {
      "text/plain": [
       "array(['F', 'r', 'a', 'n', 'k'], dtype=object)"
      ]
     },
     "execution_count": 13,
     "metadata": {},
     "output_type": "execute_result"
    }
   ],
   "source": [
    "ser.values"
   ]
  },
  {
   "cell_type": "code",
   "execution_count": 14,
   "id": "c3a986f7",
   "metadata": {
    "ExecuteTime": {
     "end_time": "2022-09-04T09:49:39.350310Z",
     "start_time": "2022-09-04T09:49:39.336285Z"
    }
   },
   "outputs": [
    {
     "data": {
      "text/plain": [
       "<zip at 0x21149039640>"
      ]
     },
     "execution_count": 14,
     "metadata": {},
     "output_type": "execute_result"
    }
   ],
   "source": [
    "ser.items()\n"
   ]
  },
  {
   "cell_type": "code",
   "execution_count": 15,
   "id": "7c1f65ac",
   "metadata": {
    "ExecuteTime": {
     "end_time": "2022-09-04T09:49:39.366310Z",
     "start_time": "2022-09-04T09:49:39.351284Z"
    }
   },
   "outputs": [
    {
     "data": {
      "text/plain": [
       "[(0, 'F'), (1, 'r'), (2, 'a'), (3, 'n'), (4, 'k')]"
      ]
     },
     "execution_count": 15,
     "metadata": {},
     "output_type": "execute_result"
    }
   ],
   "source": [
    "list(ser.items())"
   ]
  },
  {
   "cell_type": "code",
   "execution_count": 16,
   "id": "19b91fd4",
   "metadata": {
    "ExecuteTime": {
     "end_time": "2022-09-04T09:49:39.382306Z",
     "start_time": "2022-09-04T09:49:39.367328Z"
    }
   },
   "outputs": [
    {
     "data": {
      "text/plain": [
       "0    F\n",
       "1    r\n",
       "dtype: object"
      ]
     },
     "execution_count": 16,
     "metadata": {},
     "output_type": "execute_result"
    }
   ],
   "source": [
    "ser.head(2)"
   ]
  },
  {
   "cell_type": "code",
   "execution_count": 17,
   "id": "73abf6d5",
   "metadata": {
    "ExecuteTime": {
     "end_time": "2022-09-04T09:49:39.398308Z",
     "start_time": "2022-09-04T09:49:39.383306Z"
    }
   },
   "outputs": [
    {
     "data": {
      "text/plain": [
       "3    n\n",
       "4    k\n",
       "dtype: object"
      ]
     },
     "execution_count": 17,
     "metadata": {},
     "output_type": "execute_result"
    }
   ],
   "source": [
    "ser.tail(2)"
   ]
  },
  {
   "cell_type": "code",
   "execution_count": 18,
   "id": "bf15d5e7",
   "metadata": {
    "ExecuteTime": {
     "end_time": "2022-09-04T09:49:39.414305Z",
     "start_time": "2022-09-04T09:49:39.399283Z"
    }
   },
   "outputs": [
    {
     "data": {
      "text/plain": [
       "4    k\n",
       "dtype: object"
      ]
     },
     "execution_count": 18,
     "metadata": {},
     "output_type": "execute_result"
    }
   ],
   "source": [
    "ser.sample(1)"
   ]
  },
  {
   "cell_type": "code",
   "execution_count": 19,
   "id": "0f1f8b59",
   "metadata": {
    "ExecuteTime": {
     "end_time": "2022-09-04T09:49:39.430310Z",
     "start_time": "2022-09-04T09:49:39.415281Z"
    }
   },
   "outputs": [
    {
     "data": {
      "text/plain": [
       "4    k\n",
       "3    n\n",
       "2    a\n",
       "1    r\n",
       "0    F\n",
       "dtype: object"
      ]
     },
     "execution_count": 19,
     "metadata": {},
     "output_type": "execute_result"
    }
   ],
   "source": [
    "ser.sort_index(ascending=False)"
   ]
  },
  {
   "cell_type": "code",
   "execution_count": 20,
   "id": "0c280605",
   "metadata": {
    "ExecuteTime": {
     "end_time": "2022-09-04T09:49:39.446282Z",
     "start_time": "2022-09-04T09:49:39.431311Z"
    }
   },
   "outputs": [
    {
     "data": {
      "text/plain": [
       "0    F\n",
       "2    a\n",
       "4    k\n",
       "3    n\n",
       "1    r\n",
       "dtype: object"
      ]
     },
     "execution_count": 20,
     "metadata": {},
     "output_type": "execute_result"
    }
   ],
   "source": [
    "ser.sort_values()"
   ]
  },
  {
   "cell_type": "code",
   "execution_count": 21,
   "id": "7dfb4a12",
   "metadata": {
    "ExecuteTime": {
     "end_time": "2022-09-04T09:49:39.461317Z",
     "start_time": "2022-09-04T09:49:39.447283Z"
    }
   },
   "outputs": [
    {
     "data": {
      "text/plain": [
       "0    False\n",
       "1    False\n",
       "2     True\n",
       "3    False\n",
       "4    False\n",
       "dtype: bool"
      ]
     },
     "execution_count": 21,
     "metadata": {},
     "output_type": "execute_result"
    }
   ],
   "source": [
    "ser.isin([\"a\"])"
   ]
  },
  {
   "cell_type": "markdown",
   "id": "21244a24",
   "metadata": {},
   "source": [
    "## Pandas Serisini İndeksleme ve Dilimleme"
   ]
  },
  {
   "cell_type": "code",
   "execution_count": 22,
   "id": "20445309",
   "metadata": {
    "ExecuteTime": {
     "end_time": "2022-09-04T09:49:39.477310Z",
     "start_time": "2022-09-04T09:49:39.462284Z"
    }
   },
   "outputs": [
    {
     "data": {
      "text/plain": [
       "Multimate     1\n",
       "Scelose       2\n",
       "Maritimetr    3\n",
       "Ptzlow        4\n",
       "Frank         5\n",
       "dtype: int64"
      ]
     },
     "execution_count": 22,
     "metadata": {},
     "output_type": "execute_result"
    }
   ],
   "source": [
    "ser = pd.Series([1, 2, 3, 4, 5], index = ['Multimate', 'Scelose','Maritimetr', 'Ptzlow','Frank'])\n",
    "ser"
   ]
  },
  {
   "cell_type": "code",
   "execution_count": 23,
   "id": "0180eeb5",
   "metadata": {
    "ExecuteTime": {
     "end_time": "2022-09-04T09:49:39.493310Z",
     "start_time": "2022-09-04T09:49:39.478284Z"
    }
   },
   "outputs": [
    {
     "data": {
      "text/plain": [
       "1"
      ]
     },
     "execution_count": 23,
     "metadata": {},
     "output_type": "execute_result"
    }
   ],
   "source": [
    "ser[0]"
   ]
  },
  {
   "cell_type": "code",
   "execution_count": 24,
   "id": "de504414",
   "metadata": {
    "ExecuteTime": {
     "end_time": "2022-09-04T09:49:39.509312Z",
     "start_time": "2022-09-04T09:49:39.494288Z"
    }
   },
   "outputs": [
    {
     "data": {
      "text/plain": [
       "5"
      ]
     },
     "execution_count": 24,
     "metadata": {},
     "output_type": "execute_result"
    }
   ],
   "source": [
    "ser[4]"
   ]
  },
  {
   "cell_type": "code",
   "execution_count": 25,
   "id": "4ec842b9",
   "metadata": {
    "ExecuteTime": {
     "end_time": "2022-09-04T09:49:39.525282Z",
     "start_time": "2022-09-04T09:49:39.510282Z"
    }
   },
   "outputs": [
    {
     "data": {
      "text/plain": [
       "Multimate     1\n",
       "Maritimetr    3\n",
       "dtype: int64"
      ]
     },
     "execution_count": 25,
     "metadata": {},
     "output_type": "execute_result"
    }
   ],
   "source": [
    "ser[[0,2]]"
   ]
  },
  {
   "cell_type": "code",
   "execution_count": 43,
   "id": "96febcbc",
   "metadata": {
    "ExecuteTime": {
     "end_time": "2022-09-04T09:54:19.918156Z",
     "start_time": "2022-09-04T09:54:19.900138Z"
    }
   },
   "outputs": [
    {
     "data": {
      "text/plain": [
       "Frank     5\n",
       "Ptzlow    4\n",
       "dtype: int64"
      ]
     },
     "execution_count": 43,
     "metadata": {},
     "output_type": "execute_result"
    }
   ],
   "source": [
    "ser[[\"Frank\", \"Ptzlow\"]]"
   ]
  },
  {
   "cell_type": "code",
   "execution_count": 26,
   "id": "d6313a3c",
   "metadata": {
    "ExecuteTime": {
     "end_time": "2022-09-04T09:49:39.541282Z",
     "start_time": "2022-09-04T09:49:39.526284Z"
    }
   },
   "outputs": [
    {
     "data": {
      "text/plain": [
       "5"
      ]
     },
     "execution_count": 26,
     "metadata": {},
     "output_type": "execute_result"
    }
   ],
   "source": [
    "ser[\"Frank\"]"
   ]
  },
  {
   "cell_type": "code",
   "execution_count": 27,
   "id": "ebc534d3",
   "metadata": {
    "ExecuteTime": {
     "end_time": "2022-09-04T09:49:39.557282Z",
     "start_time": "2022-09-04T09:49:39.543283Z"
    }
   },
   "outputs": [
    {
     "data": {
      "text/plain": [
       "5"
      ]
     },
     "execution_count": 27,
     "metadata": {},
     "output_type": "execute_result"
    }
   ],
   "source": [
    "ser[\"Frank\"]"
   ]
  },
  {
   "cell_type": "code",
   "execution_count": 28,
   "id": "843d0daa",
   "metadata": {
    "ExecuteTime": {
     "end_time": "2022-09-04T09:49:39.573282Z",
     "start_time": "2022-09-04T09:49:39.558284Z"
    }
   },
   "outputs": [
    {
     "data": {
      "text/plain": [
       "4"
      ]
     },
     "execution_count": 28,
     "metadata": {},
     "output_type": "execute_result"
    }
   ],
   "source": [
    "ser.Ptzlow"
   ]
  },
  {
   "cell_type": "code",
   "execution_count": 29,
   "id": "80cd677c",
   "metadata": {
    "ExecuteTime": {
     "end_time": "2022-09-04T09:49:39.589313Z",
     "start_time": "2022-09-04T09:49:39.574284Z"
    }
   },
   "outputs": [
    {
     "data": {
      "text/plain": [
       "'Ptzlow'"
      ]
     },
     "execution_count": 29,
     "metadata": {},
     "output_type": "execute_result"
    }
   ],
   "source": [
    "ser.index[3]"
   ]
  },
  {
   "cell_type": "code",
   "execution_count": 30,
   "id": "9808a790",
   "metadata": {
    "ExecuteTime": {
     "end_time": "2022-09-04T09:49:39.605281Z",
     "start_time": "2022-09-04T09:49:39.590282Z"
    }
   },
   "outputs": [
    {
     "data": {
      "text/plain": [
       "Scelose       2\n",
       "Maritimetr    3\n",
       "Ptzlow        4\n",
       "dtype: int64"
      ]
     },
     "execution_count": 30,
     "metadata": {},
     "output_type": "execute_result"
    }
   ],
   "source": [
    "ser[1:4:1]"
   ]
  },
  {
   "cell_type": "code",
   "execution_count": 31,
   "id": "80f8a831",
   "metadata": {
    "ExecuteTime": {
     "end_time": "2022-09-04T09:49:39.621281Z",
     "start_time": "2022-09-04T09:49:39.606283Z"
    }
   },
   "outputs": [
    {
     "data": {
      "text/plain": [
       "Frank         5\n",
       "Ptzlow        4\n",
       "Maritimetr    3\n",
       "Scelose       2\n",
       "Multimate     1\n",
       "dtype: int64"
      ]
     },
     "execution_count": 31,
     "metadata": {},
     "output_type": "execute_result"
    }
   ],
   "source": [
    "ser[::-1]"
   ]
  },
  {
   "cell_type": "code",
   "execution_count": 44,
   "id": "52c4a3e0",
   "metadata": {
    "ExecuteTime": {
     "end_time": "2022-09-04T09:55:40.677160Z",
     "start_time": "2022-09-04T09:55:40.657161Z"
    }
   },
   "outputs": [
    {
     "data": {
      "text/plain": [
       "Multimate     1\n",
       "Scelose       2\n",
       "Maritimetr    3\n",
       "Ptzlow        4\n",
       "Frank         5\n",
       "dtype: int64"
      ]
     },
     "execution_count": 44,
     "metadata": {},
     "output_type": "execute_result"
    }
   ],
   "source": [
    "ser['Multimate':'Frank']"
   ]
  },
  {
   "cell_type": "markdown",
   "id": "7fa9dbbd",
   "metadata": {},
   "source": [
    "## Pandas Serisinde Koşullu Seçim"
   ]
  },
  {
   "cell_type": "code",
   "execution_count": 47,
   "id": "935e16bb",
   "metadata": {
    "ExecuteTime": {
     "end_time": "2022-09-04T10:01:23.388066Z",
     "start_time": "2022-09-04T10:01:23.376096Z"
    }
   },
   "outputs": [
    {
     "data": {
      "text/plain": [
       "Yatoro      121\n",
       "Admiral     200\n",
       "Singsing    170\n",
       "Nix          99\n",
       "Frank       145\n",
       "dtype: int64"
      ]
     },
     "execution_count": 47,
     "metadata": {},
     "output_type": "execute_result"
    }
   ],
   "source": [
    "# Seri oluşturduk indeksi  vermemize rağmen bizim için sayısal index üretti \n",
    "\n",
    "ser = pd.Series(data = [121, 200, 170, 99,145], index = [\"Yatoro\", \"Admiral\", \"Singsing\", \"Nix\",\"Frank\"])\n",
    "ser"
   ]
  },
  {
   "cell_type": "code",
   "execution_count": 53,
   "id": "608d3549",
   "metadata": {
    "ExecuteTime": {
     "end_time": "2022-09-04T10:03:37.034687Z",
     "start_time": "2022-09-04T10:03:37.020659Z"
    }
   },
   "outputs": [
    {
     "data": {
      "text/plain": [
       "Index(['Yatoro', 'Admiral', 'Singsing', 'Nix', 'Frank'], dtype='object')"
      ]
     },
     "execution_count": 53,
     "metadata": {},
     "output_type": "execute_result"
    }
   ],
   "source": [
    "ser.index"
   ]
  },
  {
   "cell_type": "code",
   "execution_count": 55,
   "id": "fa641923",
   "metadata": {
    "ExecuteTime": {
     "end_time": "2022-09-04T10:03:53.436077Z",
     "start_time": "2022-09-04T10:03:53.419077Z"
    }
   },
   "outputs": [
    {
     "data": {
      "text/plain": [
       "99"
      ]
     },
     "execution_count": 55,
     "metadata": {},
     "output_type": "execute_result"
    }
   ],
   "source": [
    "ser[3]"
   ]
  },
  {
   "cell_type": "code",
   "execution_count": 56,
   "id": "64c0672c",
   "metadata": {
    "ExecuteTime": {
     "end_time": "2022-09-04T10:05:20.444761Z",
     "start_time": "2022-09-04T10:05:20.427733Z"
    }
   },
   "outputs": [
    {
     "data": {
      "text/plain": [
       "Yatoro      121\n",
       "Admiral     200\n",
       "Singsing    170\n",
       "dtype: int64"
      ]
     },
     "execution_count": 56,
     "metadata": {},
     "output_type": "execute_result"
    }
   ],
   "source": [
    "ser[0:3]"
   ]
  },
  {
   "cell_type": "code",
   "execution_count": 57,
   "id": "8ca0f8be",
   "metadata": {
    "ExecuteTime": {
     "end_time": "2022-09-04T10:06:04.966344Z",
     "start_time": "2022-09-04T10:06:04.960317Z"
    }
   },
   "outputs": [
    {
     "data": {
      "text/plain": [
       "Yatoro      121\n",
       "Admiral     200\n",
       "Singsing    170\n",
       "Nix          99\n",
       "dtype: int64"
      ]
     },
     "execution_count": 57,
     "metadata": {},
     "output_type": "execute_result"
    }
   ],
   "source": [
    "ser['Yatoro':'Nix']"
   ]
  },
  {
   "cell_type": "code",
   "execution_count": 48,
   "id": "376d20c4",
   "metadata": {
    "ExecuteTime": {
     "end_time": "2022-09-04T10:01:27.768728Z",
     "start_time": "2022-09-04T10:01:27.761727Z"
    }
   },
   "outputs": [
    {
     "data": {
      "text/plain": [
       "False"
      ]
     },
     "execution_count": 48,
     "metadata": {},
     "output_type": "execute_result"
    }
   ],
   "source": [
    "'ENez' in ser"
   ]
  },
  {
   "cell_type": "code",
   "execution_count": 49,
   "id": "b34d5ccc",
   "metadata": {
    "ExecuteTime": {
     "end_time": "2022-09-04T10:01:29.247827Z",
     "start_time": "2022-09-04T10:01:29.228829Z"
    }
   },
   "outputs": [
    {
     "data": {
      "text/plain": [
       "True"
      ]
     },
     "execution_count": 49,
     "metadata": {},
     "output_type": "execute_result"
    }
   ],
   "source": [
    "'Frank' in ser"
   ]
  },
  {
   "cell_type": "code",
   "execution_count": 51,
   "id": "a3f7a128",
   "metadata": {
    "ExecuteTime": {
     "end_time": "2022-09-04T10:01:43.143683Z",
     "start_time": "2022-09-04T10:01:43.127839Z"
    }
   },
   "outputs": [
    {
     "data": {
      "text/plain": [
       "Yatoro      False\n",
       "Admiral      True\n",
       "Singsing     True\n",
       "Nix         False\n",
       "Frank        True\n",
       "dtype: bool"
      ]
     },
     "execution_count": 51,
     "metadata": {},
     "output_type": "execute_result"
    }
   ],
   "source": [
    "ser > 125"
   ]
  },
  {
   "cell_type": "code",
   "execution_count": 52,
   "id": "82d3b7e7",
   "metadata": {
    "ExecuteTime": {
     "end_time": "2022-09-04T10:01:48.721163Z",
     "start_time": "2022-09-04T10:01:48.703165Z"
    }
   },
   "outputs": [
    {
     "data": {
      "text/plain": [
       "Admiral     200\n",
       "Singsing    170\n",
       "Frank       145\n",
       "dtype: int64"
      ]
     },
     "execution_count": 52,
     "metadata": {},
     "output_type": "execute_result"
    }
   ],
   "source": [
    "ser[ser > 125]"
   ]
  },
  {
   "cell_type": "code",
   "execution_count": 58,
   "id": "bb77429f",
   "metadata": {
    "ExecuteTime": {
     "end_time": "2022-09-04T10:06:56.956537Z",
     "start_time": "2022-09-04T10:06:56.937505Z"
    }
   },
   "outputs": [
    {
     "data": {
      "text/plain": [
       "Yatoro      121\n",
       "Admiral     200\n",
       "Singsing    170\n",
       "Nix         105\n",
       "Frank       145\n",
       "dtype: int64"
      ]
     },
     "execution_count": 58,
     "metadata": {},
     "output_type": "execute_result"
    }
   ],
   "source": [
    "ser[ser < 100] = 105\n",
    "ser"
   ]
  },
  {
   "cell_type": "code",
   "execution_count": 59,
   "id": "6895d7a5",
   "metadata": {
    "ExecuteTime": {
     "end_time": "2022-09-04T10:08:08.433467Z",
     "start_time": "2022-09-04T10:08:08.416467Z"
    }
   },
   "outputs": [
    {
     "data": {
      "text/plain": [
       "Yatoro       True\n",
       "Admiral     False\n",
       "Singsing    False\n",
       "Nix         False\n",
       "Frank       False\n",
       "dtype: bool"
      ]
     },
     "execution_count": 59,
     "metadata": {},
     "output_type": "execute_result"
    }
   ],
   "source": [
    "ser.isin([121])"
   ]
  },
  {
   "cell_type": "code",
   "execution_count": 60,
   "id": "3a68e2da",
   "metadata": {
    "ExecuteTime": {
     "end_time": "2022-09-04T10:08:54.857123Z",
     "start_time": "2022-09-04T10:08:54.837123Z"
    }
   },
   "outputs": [
    {
     "data": {
      "text/plain": [
       "Yatoro      171\n",
       "Admiral     200\n",
       "Singsing    170\n",
       "Nix         105\n",
       "Frank       145\n",
       "dtype: int64"
      ]
     },
     "execution_count": 60,
     "metadata": {},
     "output_type": "execute_result"
    }
   ],
   "source": [
    "ser[ser.isin([121])] = 171\n",
    "ser"
   ]
  }
 ],
 "metadata": {
  "kernelspec": {
   "display_name": "Python 3 (ipykernel)",
   "language": "python",
   "name": "python3"
  },
  "language_info": {
   "codemirror_mode": {
    "name": "ipython",
    "version": 3
   },
   "file_extension": ".py",
   "mimetype": "text/x-python",
   "name": "python",
   "nbconvert_exporter": "python",
   "pygments_lexer": "ipython3",
   "version": "3.9.7"
  },
  "toc": {
   "base_numbering": 1,
   "nav_menu": {},
   "number_sections": true,
   "sideBar": true,
   "skip_h1_title": false,
   "title_cell": "Table of Contents",
   "title_sidebar": "Contents",
   "toc_cell": false,
   "toc_position": {
    "height": "calc(100% - 180px)",
    "left": "10px",
    "top": "150px",
    "width": "384px"
   },
   "toc_section_display": true,
   "toc_window_display": true
  }
 },
 "nbformat": 4,
 "nbformat_minor": 5
}
