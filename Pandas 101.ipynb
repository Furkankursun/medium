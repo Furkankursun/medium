{
 "cells": [
  {
   "cell_type": "code",
   "execution_count": 1,
   "id": "aa363484",
   "metadata": {
    "ExecuteTime": {
     "end_time": "2022-09-04T10:11:05.937998Z",
     "start_time": "2022-09-04T10:11:05.589004Z"
    }
   },
   "outputs": [],
   "source": [
    "# Kütüphanenin eklenmesi\n",
    "import pandas as pd\n",
    "import numpy as np"
   ]
  },
  {
   "cell_type": "markdown",
   "id": "5b9e9876",
   "metadata": {},
   "source": [
    "## Pandas serisi yapma"
   ]
  },
  {
   "cell_type": "code",
   "execution_count": 2,
   "id": "efa24401",
   "metadata": {
    "ExecuteTime": {
     "end_time": "2022-09-04T10:11:05.953992Z",
     "start_time": "2022-09-04T10:11:05.938991Z"
    }
   },
   "outputs": [],
   "source": [
    "labels = ['a', 'b', 'c']\n",
    "my_list = [10, 20, 30]\n",
    "arr = np.array([10, 20, 30])\n",
    "d = {'a': 10, 'b': 20, 'c': 30}"
   ]
  },
  {
   "cell_type": "code",
   "execution_count": 3,
   "id": "c45f3c9d",
   "metadata": {
    "ExecuteTime": {
     "end_time": "2022-09-04T10:11:05.969990Z",
     "start_time": "2022-09-04T10:11:05.954989Z"
    }
   },
   "outputs": [
    {
     "data": {
      "text/plain": [
       "0    a\n",
       "1    b\n",
       "2    c\n",
       "dtype: object"
      ]
     },
     "execution_count": 3,
     "metadata": {},
     "output_type": "execute_result"
    }
   ],
   "source": [
    "pd.Series(labels)"
   ]
  },
  {
   "cell_type": "code",
   "execution_count": 4,
   "id": "dae5e160",
   "metadata": {
    "ExecuteTime": {
     "end_time": "2022-09-04T10:11:05.985985Z",
     "start_time": "2022-09-04T10:11:05.971002Z"
    }
   },
   "outputs": [
    {
     "data": {
      "text/plain": [
       "a    10\n",
       "b    20\n",
       "c    30\n",
       "dtype: int64"
      ]
     },
     "execution_count": 4,
     "metadata": {},
     "output_type": "execute_result"
    }
   ],
   "source": [
    "pd.Series([10, 20, 30],index=labels)"
   ]
  },
  {
   "cell_type": "code",
   "execution_count": 5,
   "id": "9eaeef67",
   "metadata": {
    "ExecuteTime": {
     "end_time": "2022-09-04T10:11:06.000988Z",
     "start_time": "2022-09-04T10:11:05.986961Z"
    }
   },
   "outputs": [
    {
     "data": {
      "text/plain": [
       "0    10\n",
       "1    20\n",
       "2    30\n",
       "dtype: int64"
      ]
     },
     "execution_count": 5,
     "metadata": {},
     "output_type": "execute_result"
    }
   ],
   "source": [
    "pd.Series(my_list)"
   ]
  },
  {
   "cell_type": "code",
   "execution_count": 46,
   "id": "090b42e5",
   "metadata": {
    "ExecuteTime": {
     "end_time": "2022-09-04T10:23:51.107257Z",
     "start_time": "2022-09-04T10:23:51.091177Z"
    }
   },
   "outputs": [
    {
     "data": {
      "text/plain": [
       "x    10\n",
       "y    20\n",
       "z    30\n",
       "dtype: int64"
      ]
     },
     "execution_count": 46,
     "metadata": {},
     "output_type": "execute_result"
    }
   ],
   "source": [
    "d = {'x': 10, 'y': 20, 'z': 30}\n",
    "pd.Series(d)"
   ]
  },
  {
   "cell_type": "markdown",
   "id": "64e13c48",
   "metadata": {},
   "source": [
    "## Serisini Özellikleri & Fonksiyonları"
   ]
  },
  {
   "cell_type": "code",
   "execution_count": 6,
   "id": "e29fdc2c",
   "metadata": {
    "ExecuteTime": {
     "end_time": "2022-09-04T10:11:06.016991Z",
     "start_time": "2022-09-04T10:11:06.002004Z"
    }
   },
   "outputs": [
    {
     "name": "stdout",
     "output_type": "stream",
     "text": [
      "0    F\n",
      "1    r\n",
      "2    a\n",
      "3    n\n",
      "4    k\n",
      "dtype: object\n"
     ]
    }
   ],
   "source": [
    "data = np.array(['F','r','a','n','k'])\n",
    "ser = pd.Series(data)\n",
    "print(ser)"
   ]
  },
  {
   "cell_type": "code",
   "execution_count": 7,
   "id": "ab8ef94f",
   "metadata": {
    "ExecuteTime": {
     "end_time": "2022-09-04T10:11:06.032985Z",
     "start_time": "2022-09-04T10:11:06.017961Z"
    }
   },
   "outputs": [
    {
     "data": {
      "text/plain": [
       "dtype('O')"
      ]
     },
     "execution_count": 7,
     "metadata": {},
     "output_type": "execute_result"
    }
   ],
   "source": [
    "ser.dtype"
   ]
  },
  {
   "cell_type": "code",
   "execution_count": 8,
   "id": "c36a4b25",
   "metadata": {
    "ExecuteTime": {
     "end_time": "2022-09-04T10:11:06.048962Z",
     "start_time": "2022-09-04T10:11:06.033991Z"
    }
   },
   "outputs": [
    {
     "data": {
      "text/plain": [
       "(5,)"
      ]
     },
     "execution_count": 8,
     "metadata": {},
     "output_type": "execute_result"
    }
   ],
   "source": [
    "ser.shape"
   ]
  },
  {
   "cell_type": "code",
   "execution_count": 9,
   "id": "33013aff",
   "metadata": {
    "ExecuteTime": {
     "end_time": "2022-09-04T10:11:06.064993Z",
     "start_time": "2022-09-04T10:11:06.050963Z"
    }
   },
   "outputs": [
    {
     "data": {
      "text/plain": [
       "5"
      ]
     },
     "execution_count": 9,
     "metadata": {},
     "output_type": "execute_result"
    }
   ],
   "source": [
    "ser.size"
   ]
  },
  {
   "cell_type": "code",
   "execution_count": 10,
   "id": "b609cdad",
   "metadata": {
    "ExecuteTime": {
     "end_time": "2022-09-04T10:11:06.080997Z",
     "start_time": "2022-09-04T10:11:06.065991Z"
    }
   },
   "outputs": [
    {
     "data": {
      "text/plain": [
       "1"
      ]
     },
     "execution_count": 10,
     "metadata": {},
     "output_type": "execute_result"
    }
   ],
   "source": [
    "ser.ndim"
   ]
  },
  {
   "cell_type": "code",
   "execution_count": 11,
   "id": "d51512e1",
   "metadata": {
    "ExecuteTime": {
     "end_time": "2022-09-04T10:11:06.096991Z",
     "start_time": "2022-09-04T10:11:06.082005Z"
    }
   },
   "outputs": [
    {
     "data": {
      "text/plain": [
       "RangeIndex(start=0, stop=5, step=1)"
      ]
     },
     "execution_count": 11,
     "metadata": {},
     "output_type": "execute_result"
    }
   ],
   "source": [
    "ser.index"
   ]
  },
  {
   "cell_type": "code",
   "execution_count": 12,
   "id": "3b48e96d",
   "metadata": {
    "ExecuteTime": {
     "end_time": "2022-09-04T10:11:06.112994Z",
     "start_time": "2022-09-04T10:11:06.097992Z"
    }
   },
   "outputs": [
    {
     "data": {
      "text/plain": [
       "RangeIndex(start=0, stop=5, step=1)"
      ]
     },
     "execution_count": 12,
     "metadata": {},
     "output_type": "execute_result"
    }
   ],
   "source": [
    "ser.keys()\n"
   ]
  },
  {
   "cell_type": "code",
   "execution_count": 13,
   "id": "3fdb4478",
   "metadata": {
    "ExecuteTime": {
     "end_time": "2022-09-04T10:11:06.128962Z",
     "start_time": "2022-09-04T10:11:06.114002Z"
    }
   },
   "outputs": [
    {
     "data": {
      "text/plain": [
       "array(['F', 'r', 'a', 'n', 'k'], dtype=object)"
      ]
     },
     "execution_count": 13,
     "metadata": {},
     "output_type": "execute_result"
    }
   ],
   "source": [
    "ser.values"
   ]
  },
  {
   "cell_type": "code",
   "execution_count": 14,
   "id": "c3a986f7",
   "metadata": {
    "ExecuteTime": {
     "end_time": "2022-09-04T10:11:06.143990Z",
     "start_time": "2022-09-04T10:11:06.129991Z"
    }
   },
   "outputs": [
    {
     "data": {
      "text/plain": [
       "<zip at 0x22f73328600>"
      ]
     },
     "execution_count": 14,
     "metadata": {},
     "output_type": "execute_result"
    }
   ],
   "source": [
    "ser.items()\n"
   ]
  },
  {
   "cell_type": "code",
   "execution_count": 15,
   "id": "7c1f65ac",
   "metadata": {
    "ExecuteTime": {
     "end_time": "2022-09-04T10:11:06.159990Z",
     "start_time": "2022-09-04T10:11:06.144990Z"
    }
   },
   "outputs": [
    {
     "data": {
      "text/plain": [
       "[(0, 'F'), (1, 'r'), (2, 'a'), (3, 'n'), (4, 'k')]"
      ]
     },
     "execution_count": 15,
     "metadata": {},
     "output_type": "execute_result"
    }
   ],
   "source": [
    "list(ser.items())"
   ]
  },
  {
   "cell_type": "code",
   "execution_count": 16,
   "id": "19b91fd4",
   "metadata": {
    "ExecuteTime": {
     "end_time": "2022-09-04T10:11:06.175990Z",
     "start_time": "2022-09-04T10:11:06.160997Z"
    }
   },
   "outputs": [
    {
     "data": {
      "text/plain": [
       "0    F\n",
       "1    r\n",
       "dtype: object"
      ]
     },
     "execution_count": 16,
     "metadata": {},
     "output_type": "execute_result"
    }
   ],
   "source": [
    "ser.head(2)"
   ]
  },
  {
   "cell_type": "code",
   "execution_count": 17,
   "id": "73abf6d5",
   "metadata": {
    "ExecuteTime": {
     "end_time": "2022-09-04T10:11:06.191990Z",
     "start_time": "2022-09-04T10:11:06.176986Z"
    }
   },
   "outputs": [
    {
     "data": {
      "text/plain": [
       "3    n\n",
       "4    k\n",
       "dtype: object"
      ]
     },
     "execution_count": 17,
     "metadata": {},
     "output_type": "execute_result"
    }
   ],
   "source": [
    "ser.tail(2)"
   ]
  },
  {
   "cell_type": "code",
   "execution_count": 18,
   "id": "bf15d5e7",
   "metadata": {
    "ExecuteTime": {
     "end_time": "2022-09-04T10:11:06.207991Z",
     "start_time": "2022-09-04T10:11:06.192993Z"
    }
   },
   "outputs": [
    {
     "data": {
      "text/plain": [
       "3    n\n",
       "dtype: object"
      ]
     },
     "execution_count": 18,
     "metadata": {},
     "output_type": "execute_result"
    }
   ],
   "source": [
    "ser.sample(1)"
   ]
  },
  {
   "cell_type": "code",
   "execution_count": 19,
   "id": "0f1f8b59",
   "metadata": {
    "ExecuteTime": {
     "end_time": "2022-09-04T10:11:06.223991Z",
     "start_time": "2022-09-04T10:11:06.208962Z"
    }
   },
   "outputs": [
    {
     "data": {
      "text/plain": [
       "4    k\n",
       "3    n\n",
       "2    a\n",
       "1    r\n",
       "0    F\n",
       "dtype: object"
      ]
     },
     "execution_count": 19,
     "metadata": {},
     "output_type": "execute_result"
    }
   ],
   "source": [
    "ser.sort_index(ascending=False)"
   ]
  },
  {
   "cell_type": "code",
   "execution_count": 20,
   "id": "0c280605",
   "metadata": {
    "ExecuteTime": {
     "end_time": "2022-09-04T10:11:06.239991Z",
     "start_time": "2022-09-04T10:11:06.224963Z"
    }
   },
   "outputs": [
    {
     "data": {
      "text/plain": [
       "0    F\n",
       "2    a\n",
       "4    k\n",
       "3    n\n",
       "1    r\n",
       "dtype: object"
      ]
     },
     "execution_count": 20,
     "metadata": {},
     "output_type": "execute_result"
    }
   ],
   "source": [
    "ser.sort_values()"
   ]
  },
  {
   "cell_type": "code",
   "execution_count": 21,
   "id": "7dfb4a12",
   "metadata": {
    "ExecuteTime": {
     "end_time": "2022-09-04T10:11:06.254961Z",
     "start_time": "2022-09-04T10:11:06.240961Z"
    }
   },
   "outputs": [
    {
     "data": {
      "text/plain": [
       "0    False\n",
       "1    False\n",
       "2     True\n",
       "3    False\n",
       "4    False\n",
       "dtype: bool"
      ]
     },
     "execution_count": 21,
     "metadata": {},
     "output_type": "execute_result"
    }
   ],
   "source": [
    "ser.isin([\"a\"])"
   ]
  },
  {
   "cell_type": "markdown",
   "id": "21244a24",
   "metadata": {},
   "source": [
    "## Pandas Serisini İndeksleme ve Dilimleme"
   ]
  },
  {
   "cell_type": "code",
   "execution_count": 22,
   "id": "20445309",
   "metadata": {
    "ExecuteTime": {
     "end_time": "2022-09-04T10:11:06.270988Z",
     "start_time": "2022-09-04T10:11:06.256961Z"
    }
   },
   "outputs": [
    {
     "data": {
      "text/plain": [
       "Multimate     1\n",
       "Scelose       2\n",
       "Maritimetr    3\n",
       "Ptzlow        4\n",
       "Frank         5\n",
       "dtype: int64"
      ]
     },
     "execution_count": 22,
     "metadata": {},
     "output_type": "execute_result"
    }
   ],
   "source": [
    "ser = pd.Series([1, 2, 3, 4, 5], index = ['Multimate', 'Scelose','Maritimetr', 'Ptzlow','Frank'])\n",
    "ser"
   ]
  },
  {
   "cell_type": "code",
   "execution_count": 23,
   "id": "0180eeb5",
   "metadata": {
    "ExecuteTime": {
     "end_time": "2022-09-04T10:11:06.286961Z",
     "start_time": "2022-09-04T10:11:06.271961Z"
    }
   },
   "outputs": [
    {
     "data": {
      "text/plain": [
       "1"
      ]
     },
     "execution_count": 23,
     "metadata": {},
     "output_type": "execute_result"
    }
   ],
   "source": [
    "ser[0]"
   ]
  },
  {
   "cell_type": "code",
   "execution_count": 24,
   "id": "de504414",
   "metadata": {
    "ExecuteTime": {
     "end_time": "2022-09-04T10:11:06.302991Z",
     "start_time": "2022-09-04T10:11:06.287991Z"
    }
   },
   "outputs": [
    {
     "data": {
      "text/plain": [
       "5"
      ]
     },
     "execution_count": 24,
     "metadata": {},
     "output_type": "execute_result"
    }
   ],
   "source": [
    "ser[4]"
   ]
  },
  {
   "cell_type": "code",
   "execution_count": 25,
   "id": "4ec842b9",
   "metadata": {
    "ExecuteTime": {
     "end_time": "2022-09-04T10:11:06.319000Z",
     "start_time": "2022-09-04T10:11:06.303991Z"
    }
   },
   "outputs": [
    {
     "data": {
      "text/plain": [
       "Multimate     1\n",
       "Maritimetr    3\n",
       "dtype: int64"
      ]
     },
     "execution_count": 25,
     "metadata": {},
     "output_type": "execute_result"
    }
   ],
   "source": [
    "ser[[0,2]]"
   ]
  },
  {
   "cell_type": "code",
   "execution_count": 26,
   "id": "aefc971b",
   "metadata": {
    "ExecuteTime": {
     "end_time": "2022-09-04T10:11:06.334988Z",
     "start_time": "2022-09-04T10:11:06.319961Z"
    }
   },
   "outputs": [
    {
     "data": {
      "text/plain": [
       "Frank     5\n",
       "Ptzlow    4\n",
       "dtype: int64"
      ]
     },
     "execution_count": 26,
     "metadata": {},
     "output_type": "execute_result"
    }
   ],
   "source": [
    "ser[[\"Frank\", \"Ptzlow\"]]"
   ]
  },
  {
   "cell_type": "code",
   "execution_count": 27,
   "id": "d6313a3c",
   "metadata": {
    "ExecuteTime": {
     "end_time": "2022-09-04T10:11:06.350991Z",
     "start_time": "2022-09-04T10:11:06.337991Z"
    }
   },
   "outputs": [
    {
     "data": {
      "text/plain": [
       "5"
      ]
     },
     "execution_count": 27,
     "metadata": {},
     "output_type": "execute_result"
    }
   ],
   "source": [
    "ser[\"Frank\"]"
   ]
  },
  {
   "cell_type": "code",
   "execution_count": 28,
   "id": "ebc534d3",
   "metadata": {
    "ExecuteTime": {
     "end_time": "2022-09-04T10:11:06.366985Z",
     "start_time": "2022-09-04T10:11:06.351961Z"
    }
   },
   "outputs": [
    {
     "data": {
      "text/plain": [
       "5"
      ]
     },
     "execution_count": 28,
     "metadata": {},
     "output_type": "execute_result"
    }
   ],
   "source": [
    "ser[\"Frank\"]"
   ]
  },
  {
   "cell_type": "code",
   "execution_count": 29,
   "id": "843d0daa",
   "metadata": {
    "ExecuteTime": {
     "end_time": "2022-09-04T10:11:06.382964Z",
     "start_time": "2022-09-04T10:11:06.367984Z"
    }
   },
   "outputs": [
    {
     "data": {
      "text/plain": [
       "4"
      ]
     },
     "execution_count": 29,
     "metadata": {},
     "output_type": "execute_result"
    }
   ],
   "source": [
    "ser.Ptzlow"
   ]
  },
  {
   "cell_type": "code",
   "execution_count": 30,
   "id": "80cd677c",
   "metadata": {
    "ExecuteTime": {
     "end_time": "2022-09-04T10:11:06.398989Z",
     "start_time": "2022-09-04T10:11:06.383990Z"
    }
   },
   "outputs": [
    {
     "data": {
      "text/plain": [
       "'Ptzlow'"
      ]
     },
     "execution_count": 30,
     "metadata": {},
     "output_type": "execute_result"
    }
   ],
   "source": [
    "ser.index[3]"
   ]
  },
  {
   "cell_type": "code",
   "execution_count": 31,
   "id": "9808a790",
   "metadata": {
    "ExecuteTime": {
     "end_time": "2022-09-04T10:11:06.414990Z",
     "start_time": "2022-09-04T10:11:06.399991Z"
    }
   },
   "outputs": [
    {
     "data": {
      "text/plain": [
       "Scelose       2\n",
       "Maritimetr    3\n",
       "Ptzlow        4\n",
       "dtype: int64"
      ]
     },
     "execution_count": 31,
     "metadata": {},
     "output_type": "execute_result"
    }
   ],
   "source": [
    "ser[1:4:1]"
   ]
  },
  {
   "cell_type": "code",
   "execution_count": 32,
   "id": "80f8a831",
   "metadata": {
    "ExecuteTime": {
     "end_time": "2022-09-04T10:11:06.430985Z",
     "start_time": "2022-09-04T10:11:06.415962Z"
    }
   },
   "outputs": [
    {
     "data": {
      "text/plain": [
       "Frank         5\n",
       "Ptzlow        4\n",
       "Maritimetr    3\n",
       "Scelose       2\n",
       "Multimate     1\n",
       "dtype: int64"
      ]
     },
     "execution_count": 32,
     "metadata": {},
     "output_type": "execute_result"
    }
   ],
   "source": [
    "ser[::-1]"
   ]
  },
  {
   "cell_type": "code",
   "execution_count": 33,
   "id": "ba1be9d7",
   "metadata": {
    "ExecuteTime": {
     "end_time": "2022-09-04T10:11:06.445990Z",
     "start_time": "2022-09-04T10:11:06.431962Z"
    }
   },
   "outputs": [
    {
     "data": {
      "text/plain": [
       "Multimate     1\n",
       "Scelose       2\n",
       "Maritimetr    3\n",
       "Ptzlow        4\n",
       "Frank         5\n",
       "dtype: int64"
      ]
     },
     "execution_count": 33,
     "metadata": {},
     "output_type": "execute_result"
    }
   ],
   "source": [
    "ser['Multimate':'Frank']"
   ]
  },
  {
   "cell_type": "markdown",
   "id": "7fa9dbbd",
   "metadata": {},
   "source": [
    "## Pandas Serisinde Koşullu Seçim"
   ]
  },
  {
   "cell_type": "code",
   "execution_count": 34,
   "id": "e95504bd",
   "metadata": {
    "ExecuteTime": {
     "end_time": "2022-09-04T10:11:06.461991Z",
     "start_time": "2022-09-04T10:11:06.446962Z"
    }
   },
   "outputs": [
    {
     "data": {
      "text/plain": [
       "Yatoro      121\n",
       "Admiral     200\n",
       "Singsing    170\n",
       "Nix          99\n",
       "Frank       145\n",
       "dtype: int64"
      ]
     },
     "execution_count": 34,
     "metadata": {},
     "output_type": "execute_result"
    }
   ],
   "source": [
    "# Seri oluşturduk indeksi  vermemize rağmen bizim için sayısal index üretti \n",
    "\n",
    "ser = pd.Series(data = [121, 200, 170, 99,145], index = [\"Yatoro\", \"Admiral\", \"Singsing\", \"Nix\",\"Frank\"])\n",
    "ser"
   ]
  },
  {
   "cell_type": "code",
   "execution_count": 35,
   "id": "8dc87315",
   "metadata": {
    "ExecuteTime": {
     "end_time": "2022-09-04T10:11:06.477991Z",
     "start_time": "2022-09-04T10:11:06.462989Z"
    }
   },
   "outputs": [
    {
     "data": {
      "text/plain": [
       "Index(['Yatoro', 'Admiral', 'Singsing', 'Nix', 'Frank'], dtype='object')"
      ]
     },
     "execution_count": 35,
     "metadata": {},
     "output_type": "execute_result"
    }
   ],
   "source": [
    "ser.index"
   ]
  },
  {
   "cell_type": "code",
   "execution_count": 36,
   "id": "dc329a31",
   "metadata": {
    "ExecuteTime": {
     "end_time": "2022-09-04T10:11:06.493990Z",
     "start_time": "2022-09-04T10:11:06.478993Z"
    }
   },
   "outputs": [
    {
     "data": {
      "text/plain": [
       "99"
      ]
     },
     "execution_count": 36,
     "metadata": {},
     "output_type": "execute_result"
    }
   ],
   "source": [
    "ser[3]"
   ]
  },
  {
   "cell_type": "code",
   "execution_count": 37,
   "id": "0d6f58f5",
   "metadata": {
    "ExecuteTime": {
     "end_time": "2022-09-04T10:11:06.509996Z",
     "start_time": "2022-09-04T10:11:06.494991Z"
    }
   },
   "outputs": [
    {
     "data": {
      "text/plain": [
       "Yatoro      121\n",
       "Admiral     200\n",
       "Singsing    170\n",
       "dtype: int64"
      ]
     },
     "execution_count": 37,
     "metadata": {},
     "output_type": "execute_result"
    }
   ],
   "source": [
    "ser[0:3]"
   ]
  },
  {
   "cell_type": "code",
   "execution_count": 38,
   "id": "312e2d19",
   "metadata": {
    "ExecuteTime": {
     "end_time": "2022-09-04T10:11:06.525990Z",
     "start_time": "2022-09-04T10:11:06.510988Z"
    }
   },
   "outputs": [
    {
     "data": {
      "text/plain": [
       "Yatoro      121\n",
       "Admiral     200\n",
       "Singsing    170\n",
       "Nix          99\n",
       "dtype: int64"
      ]
     },
     "execution_count": 38,
     "metadata": {},
     "output_type": "execute_result"
    }
   ],
   "source": [
    "ser['Yatoro':'Nix']"
   ]
  },
  {
   "cell_type": "code",
   "execution_count": 39,
   "id": "376d20c4",
   "metadata": {
    "ExecuteTime": {
     "end_time": "2022-09-04T10:11:06.541991Z",
     "start_time": "2022-09-04T10:11:06.526988Z"
    }
   },
   "outputs": [
    {
     "data": {
      "text/plain": [
       "False"
      ]
     },
     "execution_count": 39,
     "metadata": {},
     "output_type": "execute_result"
    }
   ],
   "source": [
    "'ENez' in ser"
   ]
  },
  {
   "cell_type": "code",
   "execution_count": 40,
   "id": "b34d5ccc",
   "metadata": {
    "ExecuteTime": {
     "end_time": "2022-09-04T10:11:06.557994Z",
     "start_time": "2022-09-04T10:11:06.542962Z"
    }
   },
   "outputs": [
    {
     "data": {
      "text/plain": [
       "True"
      ]
     },
     "execution_count": 40,
     "metadata": {},
     "output_type": "execute_result"
    }
   ],
   "source": [
    "'Frank' in ser"
   ]
  },
  {
   "cell_type": "code",
   "execution_count": 41,
   "id": "a3f7a128",
   "metadata": {
    "ExecuteTime": {
     "end_time": "2022-09-04T10:11:06.573991Z",
     "start_time": "2022-09-04T10:11:06.558991Z"
    }
   },
   "outputs": [
    {
     "data": {
      "text/plain": [
       "Yatoro      False\n",
       "Admiral      True\n",
       "Singsing     True\n",
       "Nix         False\n",
       "Frank        True\n",
       "dtype: bool"
      ]
     },
     "execution_count": 41,
     "metadata": {},
     "output_type": "execute_result"
    }
   ],
   "source": [
    "ser > 125"
   ]
  },
  {
   "cell_type": "code",
   "execution_count": 42,
   "id": "82d3b7e7",
   "metadata": {
    "ExecuteTime": {
     "end_time": "2022-09-04T10:11:06.589991Z",
     "start_time": "2022-09-04T10:11:06.574987Z"
    }
   },
   "outputs": [
    {
     "data": {
      "text/plain": [
       "Admiral     200\n",
       "Singsing    170\n",
       "Frank       145\n",
       "dtype: int64"
      ]
     },
     "execution_count": 42,
     "metadata": {},
     "output_type": "execute_result"
    }
   ],
   "source": [
    "ser[ser > 125]"
   ]
  },
  {
   "cell_type": "code",
   "execution_count": 43,
   "id": "bb77429f",
   "metadata": {
    "ExecuteTime": {
     "end_time": "2022-09-04T10:11:06.605991Z",
     "start_time": "2022-09-04T10:11:06.591000Z"
    }
   },
   "outputs": [
    {
     "data": {
      "text/plain": [
       "Yatoro      121\n",
       "Admiral     200\n",
       "Singsing    170\n",
       "Nix         105\n",
       "Frank       145\n",
       "dtype: int64"
      ]
     },
     "execution_count": 43,
     "metadata": {},
     "output_type": "execute_result"
    }
   ],
   "source": [
    "ser[ser < 100] = 105\n",
    "ser"
   ]
  },
  {
   "cell_type": "code",
   "execution_count": 44,
   "id": "6895d7a5",
   "metadata": {
    "ExecuteTime": {
     "end_time": "2022-09-04T10:11:06.620992Z",
     "start_time": "2022-09-04T10:11:06.606991Z"
    }
   },
   "outputs": [
    {
     "data": {
      "text/plain": [
       "Yatoro       True\n",
       "Admiral     False\n",
       "Singsing    False\n",
       "Nix         False\n",
       "Frank       False\n",
       "dtype: bool"
      ]
     },
     "execution_count": 44,
     "metadata": {},
     "output_type": "execute_result"
    }
   ],
   "source": [
    "ser.isin([121])"
   ]
  },
  {
   "cell_type": "code",
   "execution_count": 45,
   "id": "3a68e2da",
   "metadata": {
    "ExecuteTime": {
     "end_time": "2022-09-04T10:11:06.636991Z",
     "start_time": "2022-09-04T10:11:06.621991Z"
    }
   },
   "outputs": [
    {
     "data": {
      "text/plain": [
       "Yatoro      171\n",
       "Admiral     200\n",
       "Singsing    170\n",
       "Nix         105\n",
       "Frank       145\n",
       "dtype: int64"
      ]
     },
     "execution_count": 45,
     "metadata": {},
     "output_type": "execute_result"
    }
   ],
   "source": [
    "ser[ser.isin([121])] = 171\n",
    "ser"
   ]
  }
 ],
 "metadata": {
  "kernelspec": {
   "display_name": "Python 3 (ipykernel)",
   "language": "python",
   "name": "python3"
  },
  "language_info": {
   "codemirror_mode": {
    "name": "ipython",
    "version": 3
   },
   "file_extension": ".py",
   "mimetype": "text/x-python",
   "name": "python",
   "nbconvert_exporter": "python",
   "pygments_lexer": "ipython3",
   "version": "3.9.7"
  },
  "toc": {
   "base_numbering": 1,
   "nav_menu": {},
   "number_sections": true,
   "sideBar": true,
   "skip_h1_title": false,
   "title_cell": "Table of Contents",
   "title_sidebar": "Contents",
   "toc_cell": false,
   "toc_position": {
    "height": "calc(100% - 180px)",
    "left": "10px",
    "top": "150px",
    "width": "384px"
   },
   "toc_section_display": true,
   "toc_window_display": true
  }
 },
 "nbformat": 4,
 "nbformat_minor": 5
}
