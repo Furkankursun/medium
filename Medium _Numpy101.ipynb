{
 "cells": [
  {
   "cell_type": "markdown",
   "id": "018fece3",
   "metadata": {},
   "source": [
    "## Numpy array oluşturmak"
   ]
  },
  {
   "cell_type": "code",
   "execution_count": 1,
   "id": "46c4af3a",
   "metadata": {
    "ExecuteTime": {
     "end_time": "2022-08-23T09:04:09.920421Z",
     "start_time": "2022-08-23T09:04:09.825307Z"
    }
   },
   "outputs": [],
   "source": [
    "import numpy as np  # kütüphanenin eklenmesi"
   ]
  },
  {
   "cell_type": "markdown",
   "id": "6ec135cb",
   "metadata": {},
   "source": [
    "### Python listden  np.array oluşturmak"
   ]
  },
  {
   "cell_type": "code",
   "execution_count": 2,
   "id": "0ee22980",
   "metadata": {
    "ExecuteTime": {
     "end_time": "2022-08-23T09:04:09.936421Z",
     "start_time": "2022-08-23T09:04:09.921421Z"
    }
   },
   "outputs": [
    {
     "name": "stdout",
     "output_type": "stream",
     "text": [
      "[1 3 5 7]\n",
      "--------------------\n",
      "[[1 5 6]\n",
      " [3 5 6]\n",
      " [2 2 2]]\n"
     ]
    }
   ],
   "source": [
    "my_list = [1, 3, 5, 7]\n",
    "\n",
    "my_arr = np.array(my_list)\n",
    "\n",
    "my_arr2 = np.array([[1, 5, 6], [3, 5, 6], [2, 2, 2]])\n",
    "\n",
    "print(my_arr)\n",
    "print(\"--\" * 10)\n",
    "print(my_arr2)"
   ]
  },
  {
   "cell_type": "markdown",
   "id": "ade1414b",
   "metadata": {
    "ExecuteTime": {
     "end_time": "2022-08-23T08:55:55.965975Z",
     "start_time": "2022-08-23T08:55:55.958976Z"
    }
   },
   "source": [
    "### np.arange(start, stop, step, dtype=None) ile np.array oluşturmak"
   ]
  },
  {
   "cell_type": "code",
   "execution_count": 3,
   "id": "050cb8f8",
   "metadata": {
    "ExecuteTime": {
     "end_time": "2022-08-23T09:04:09.952421Z",
     "start_time": "2022-08-23T09:04:09.937421Z"
    }
   },
   "outputs": [
    {
     "data": {
      "text/plain": [
       "array([ 1,  3,  5,  7,  9, 11, 13, 15, 17, 19])"
      ]
     },
     "execution_count": 3,
     "metadata": {},
     "output_type": "execute_result"
    }
   ],
   "source": [
    " np.arange(1, 20, 2)"
   ]
  },
  {
   "cell_type": "markdown",
   "id": "b3c6b341",
   "metadata": {},
   "source": [
    "### np.linspace(start, stop, num=50) ile np.array oluşturmak"
   ]
  },
  {
   "cell_type": "code",
   "execution_count": 4,
   "id": "192a30e8",
   "metadata": {
    "ExecuteTime": {
     "end_time": "2022-08-23T09:04:09.967421Z",
     "start_time": "2022-08-23T09:04:09.953421Z"
    }
   },
   "outputs": [
    {
     "data": {
      "text/plain": [
       "array([ 0., 10., 20., 30., 40., 50.])"
      ]
     },
     "execution_count": 4,
     "metadata": {},
     "output_type": "execute_result"
    }
   ],
   "source": [
    "np.linspace(0, 50, 6)\n"
   ]
  },
  {
   "cell_type": "markdown",
   "id": "94018d60",
   "metadata": {},
   "source": [
    "### np.zeros(shape, dtype=float,) ile np.array oluşturmak"
   ]
  },
  {
   "cell_type": "code",
   "execution_count": 5,
   "id": "ee4836e9",
   "metadata": {
    "ExecuteTime": {
     "end_time": "2022-08-23T09:04:09.983421Z",
     "start_time": "2022-08-23T09:04:09.968423Z"
    }
   },
   "outputs": [
    {
     "data": {
      "text/plain": [
       "array([[0., 0.],\n",
       "       [0., 0.]])"
      ]
     },
     "execution_count": 5,
     "metadata": {},
     "output_type": "execute_result"
    }
   ],
   "source": [
    "np.zeros((2, 2))"
   ]
  },
  {
   "cell_type": "markdown",
   "id": "1af6e70f",
   "metadata": {},
   "source": [
    "### np.ones(shape, dtype=None ) ile np.array oluşturmak"
   ]
  },
  {
   "cell_type": "code",
   "execution_count": 6,
   "id": "fbd00f1c",
   "metadata": {
    "ExecuteTime": {
     "end_time": "2022-08-23T09:04:09.999421Z",
     "start_time": "2022-08-23T09:04:09.984421Z"
    }
   },
   "outputs": [
    {
     "data": {
      "text/plain": [
       "array([[1., 1., 1., 1.],\n",
       "       [1., 1., 1., 1.],\n",
       "       [1., 1., 1., 1.]])"
      ]
     },
     "execution_count": 6,
     "metadata": {},
     "output_type": "execute_result"
    }
   ],
   "source": [
    "np.ones((3, 4))"
   ]
  },
  {
   "cell_type": "markdown",
   "id": "48d16813",
   "metadata": {},
   "source": [
    "### np.full(shape, fill_value, dtype=None) ile np.array oluşturmak"
   ]
  },
  {
   "cell_type": "code",
   "execution_count": 7,
   "id": "8011e945",
   "metadata": {
    "ExecuteTime": {
     "end_time": "2022-08-23T09:04:10.015445Z",
     "start_time": "2022-08-23T09:04:10.000422Z"
    }
   },
   "outputs": [
    {
     "data": {
      "text/plain": [
       "array([[7, 7, 7, 7, 7],\n",
       "       [7, 7, 7, 7, 7],\n",
       "       [7, 7, 7, 7, 7]])"
      ]
     },
     "execution_count": 7,
     "metadata": {},
     "output_type": "execute_result"
    }
   ],
   "source": [
    "np.full((3, 5), fill_value=7)"
   ]
  },
  {
   "cell_type": "markdown",
   "id": "d8f7f0ad",
   "metadata": {},
   "source": [
    "### numpy.identity(n, dtype=None) ile np.array oluşturmak"
   ]
  },
  {
   "cell_type": "code",
   "execution_count": 8,
   "id": "09792f48",
   "metadata": {
    "ExecuteTime": {
     "end_time": "2022-08-23T09:04:10.030420Z",
     "start_time": "2022-08-23T09:04:10.024446Z"
    }
   },
   "outputs": [
    {
     "data": {
      "text/plain": [
       "array([[1., 0., 0., 0.],\n",
       "       [0., 1., 0., 0.],\n",
       "       [0., 0., 1., 0.],\n",
       "       [0., 0., 0., 1.]])"
      ]
     },
     "execution_count": 8,
     "metadata": {},
     "output_type": "execute_result"
    }
   ],
   "source": [
    "np.identity(4)"
   ]
  },
  {
   "cell_type": "markdown",
   "id": "0ea518fe",
   "metadata": {
    "code_folding": []
   },
   "source": [
    "### np.random.rand(5,5) ile np.array oluşturmak"
   ]
  },
  {
   "cell_type": "code",
   "execution_count": 9,
   "id": "ea7cdcd5",
   "metadata": {
    "ExecuteTime": {
     "end_time": "2022-08-23T09:04:10.061446Z",
     "start_time": "2022-08-23T09:04:10.051450Z"
    }
   },
   "outputs": [
    {
     "data": {
      "text/plain": [
       "array([[0.65862089, 0.2427817 , 0.03552733, 0.82221603, 0.39605107],\n",
       "       [0.44790419, 0.89433959, 0.35605788, 0.76841887, 0.72355389],\n",
       "       [0.34324911, 0.95283906, 0.31615726, 0.7534444 , 0.59848308],\n",
       "       [0.95512867, 0.66706859, 0.80792856, 0.69267669, 0.84366707],\n",
       "       [0.42637522, 0.12094864, 0.97129651, 0.02516701, 0.19343349]])"
      ]
     },
     "execution_count": 9,
     "metadata": {},
     "output_type": "execute_result"
    }
   ],
   "source": [
    "np.random.rand(5,5) "
   ]
  },
  {
   "cell_type": "markdown",
   "id": "bb07a331",
   "metadata": {},
   "source": [
    "### np.random.randn(10) ile np.array oluşturmak"
   ]
  },
  {
   "cell_type": "code",
   "execution_count": 10,
   "id": "df454737",
   "metadata": {
    "ExecuteTime": {
     "end_time": "2022-08-23T09:04:10.093421Z",
     "start_time": "2022-08-23T09:04:10.078424Z"
    }
   },
   "outputs": [
    {
     "data": {
      "text/plain": [
       "array([-0.85209511, -0.07659413,  0.16087696,  0.69319906,  1.30316122,\n",
       "       -0.16170894, -0.32662256, -1.2412989 , -0.07639892, -0.46826329])"
      ]
     },
     "execution_count": 10,
     "metadata": {},
     "output_type": "execute_result"
    }
   ],
   "source": [
    "np.random.randn(10)"
   ]
  },
  {
   "cell_type": "markdown",
   "id": "f5897c11",
   "metadata": {},
   "source": [
    "### np.random.randint(low, high=None, size=None, dtype=int) ile np.array oluşturmak"
   ]
  },
  {
   "cell_type": "code",
   "execution_count": 11,
   "id": "a119e85a",
   "metadata": {
    "ExecuteTime": {
     "end_time": "2022-08-23T09:04:10.108445Z",
     "start_time": "2022-08-23T09:04:10.104420Z"
    }
   },
   "outputs": [
    {
     "data": {
      "text/plain": [
       "array([[7, 9],\n",
       "       [2, 8],\n",
       "       [1, 4]])"
      ]
     },
     "execution_count": 11,
     "metadata": {},
     "output_type": "execute_result"
    }
   ],
   "source": [
    "np.random.randint(10, size=(3, 2))"
   ]
  },
  {
   "cell_type": "markdown",
   "id": "6beb3ed7",
   "metadata": {},
   "source": [
    "## Numpy Özellikleri & Fonksiyonları"
   ]
  },
  {
   "cell_type": "code",
   "execution_count": 12,
   "id": "85361f8b",
   "metadata": {
    "ExecuteTime": {
     "end_time": "2022-08-23T09:04:10.140446Z",
     "start_time": "2022-08-23T09:04:10.133421Z"
    }
   },
   "outputs": [
    {
     "data": {
      "text/plain": [
       "array([73, 22, 34, 49,  0, 41, 26, 20, 59, 30])"
      ]
     },
     "execution_count": 12,
     "metadata": {},
     "output_type": "execute_result"
    }
   ],
   "source": [
    "my_arr = np.random.randint(100, size = 10)\n",
    "my_arr"
   ]
  },
  {
   "cell_type": "markdown",
   "id": "6804c0fe",
   "metadata": {},
   "source": [
    "### Shape\n",
    "* Numpy array nesnesinin kaç satır ve sütundan oluştuğunu göstererir"
   ]
  },
  {
   "cell_type": "code",
   "execution_count": 13,
   "id": "5961a8c7",
   "metadata": {
    "ExecuteTime": {
     "end_time": "2022-08-23T09:04:10.172446Z",
     "start_time": "2022-08-23T09:04:10.161458Z"
    }
   },
   "outputs": [
    {
     "data": {
      "text/plain": [
       "(10,)"
      ]
     },
     "execution_count": 13,
     "metadata": {},
     "output_type": "execute_result"
    }
   ],
   "source": [
    "my_arr.shape "
   ]
  },
  {
   "cell_type": "code",
   "execution_count": 14,
   "id": "bc35e7f5",
   "metadata": {
    "ExecuteTime": {
     "end_time": "2022-08-23T09:04:10.188446Z",
     "start_time": "2022-08-23T09:04:10.177446Z"
    }
   },
   "outputs": [
    {
     "data": {
      "text/plain": [
       "(5, 2)"
      ]
     },
     "execution_count": 14,
     "metadata": {},
     "output_type": "execute_result"
    }
   ],
   "source": [
    "my_arr.reshape(5,2).shape"
   ]
  },
  {
   "cell_type": "code",
   "execution_count": 15,
   "id": "ca69236c",
   "metadata": {
    "ExecuteTime": {
     "end_time": "2022-08-23T09:04:10.204421Z",
     "start_time": "2022-08-23T09:04:10.194421Z"
    }
   },
   "outputs": [
    {
     "data": {
      "text/plain": [
       "(2, 5)"
      ]
     },
     "execution_count": 15,
     "metadata": {},
     "output_type": "execute_result"
    }
   ],
   "source": [
    "my_arr.reshape(2,5).shape"
   ]
  },
  {
   "cell_type": "markdown",
   "id": "af7bfcda",
   "metadata": {},
   "source": [
    "### Reshape\n",
    "* numpy.reshape(a, newshape, order='C')\n",
    "* Verilerini değiştirmeden diziye yeni bir boyut verir."
   ]
  },
  {
   "cell_type": "code",
   "execution_count": 16,
   "id": "6dce901c",
   "metadata": {
    "ExecuteTime": {
     "end_time": "2022-08-23T09:04:10.235421Z",
     "start_time": "2022-08-23T09:04:10.221422Z"
    }
   },
   "outputs": [
    {
     "data": {
      "text/plain": [
       "array([[73, 22],\n",
       "       [34, 49],\n",
       "       [ 0, 41],\n",
       "       [26, 20],\n",
       "       [59, 30]])"
      ]
     },
     "execution_count": 16,
     "metadata": {},
     "output_type": "execute_result"
    }
   ],
   "source": [
    "my_arr.reshape((5,2))"
   ]
  },
  {
   "cell_type": "markdown",
   "id": "ee339802",
   "metadata": {
    "ExecuteTime": {
     "end_time": "2022-08-21T11:44:23.618030Z",
     "start_time": "2022-08-21T11:44:23.607000Z"
    }
   },
   "source": [
    "### Max, Min, Argmax  Argmin\n",
    "\n",
    "* Min,max dizi içindeki min,max değerleri getirir \n",
    "* Argmax,argmin dizi içindeki min max değerlerinin index değerlerini getirir"
   ]
  },
  {
   "cell_type": "code",
   "execution_count": 17,
   "id": "2a2cdddb",
   "metadata": {
    "ExecuteTime": {
     "end_time": "2022-08-23T09:04:10.266421Z",
     "start_time": "2022-08-23T09:04:10.248421Z"
    }
   },
   "outputs": [
    {
     "data": {
      "text/plain": [
       "73"
      ]
     },
     "execution_count": 17,
     "metadata": {},
     "output_type": "execute_result"
    }
   ],
   "source": [
    "my_arr.max()"
   ]
  },
  {
   "cell_type": "code",
   "execution_count": 18,
   "id": "813be42a",
   "metadata": {
    "ExecuteTime": {
     "end_time": "2022-08-23T09:04:10.282421Z",
     "start_time": "2022-08-23T09:04:10.267420Z"
    }
   },
   "outputs": [
    {
     "data": {
      "text/plain": [
       "0"
      ]
     },
     "execution_count": 18,
     "metadata": {},
     "output_type": "execute_result"
    }
   ],
   "source": [
    "my_arr.argmax()"
   ]
  },
  {
   "cell_type": "code",
   "execution_count": 19,
   "id": "320d27d1",
   "metadata": {
    "ExecuteTime": {
     "end_time": "2022-08-23T09:04:10.298421Z",
     "start_time": "2022-08-23T09:04:10.283421Z"
    }
   },
   "outputs": [
    {
     "data": {
      "text/plain": [
       "0"
      ]
     },
     "execution_count": 19,
     "metadata": {},
     "output_type": "execute_result"
    }
   ],
   "source": [
    "my_arr.min()"
   ]
  },
  {
   "cell_type": "code",
   "execution_count": 20,
   "id": "fa86ed35",
   "metadata": {
    "ExecuteTime": {
     "end_time": "2022-08-23T09:04:10.314451Z",
     "start_time": "2022-08-23T09:04:10.301421Z"
    }
   },
   "outputs": [
    {
     "data": {
      "text/plain": [
       "4"
      ]
     },
     "execution_count": 20,
     "metadata": {},
     "output_type": "execute_result"
    }
   ],
   "source": [
    "my_arr.argmin()"
   ]
  },
  {
   "cell_type": "markdown",
   "id": "f17134d7",
   "metadata": {},
   "source": [
    "### Dtype\n",
    "* dizi elemanlarının veri tipini gösterir"
   ]
  },
  {
   "cell_type": "code",
   "execution_count": 21,
   "id": "7955c47d",
   "metadata": {
    "ExecuteTime": {
     "end_time": "2022-08-23T09:04:10.345450Z",
     "start_time": "2022-08-23T09:04:10.327450Z"
    }
   },
   "outputs": [
    {
     "data": {
      "text/plain": [
       "dtype('int32')"
      ]
     },
     "execution_count": 21,
     "metadata": {},
     "output_type": "execute_result"
    }
   ],
   "source": [
    "my_arr.dtype "
   ]
  },
  {
   "cell_type": "markdown",
   "id": "3dcd33dc",
   "metadata": {},
   "source": [
    "### Ndim\n",
    "* Arrayin boyut bilgisini verir"
   ]
  },
  {
   "cell_type": "code",
   "execution_count": 22,
   "id": "98bc6ff3",
   "metadata": {
    "ExecuteTime": {
     "end_time": "2022-08-23T09:04:10.361451Z",
     "start_time": "2022-08-23T09:04:10.353450Z"
    }
   },
   "outputs": [
    {
     "data": {
      "text/plain": [
       "1"
      ]
     },
     "execution_count": 22,
     "metadata": {},
     "output_type": "execute_result"
    }
   ],
   "source": [
    "my_arr.ndim"
   ]
  },
  {
   "cell_type": "code",
   "execution_count": 23,
   "id": "f7aa84fa",
   "metadata": {
    "ExecuteTime": {
     "end_time": "2022-08-23T09:04:10.377450Z",
     "start_time": "2022-08-23T09:04:10.370421Z"
    }
   },
   "outputs": [
    {
     "data": {
      "text/plain": [
       "2"
      ]
     },
     "execution_count": 23,
     "metadata": {},
     "output_type": "execute_result"
    }
   ],
   "source": [
    "my_arr.reshape(2,5).ndim"
   ]
  },
  {
   "cell_type": "markdown",
   "id": "8d7c314b",
   "metadata": {},
   "source": [
    "### Size\n",
    "* Dizideki eleman sayısını verir"
   ]
  },
  {
   "cell_type": "code",
   "execution_count": 24,
   "id": "74097510",
   "metadata": {
    "ExecuteTime": {
     "end_time": "2022-08-23T09:04:10.409450Z",
     "start_time": "2022-08-23T09:04:10.397451Z"
    }
   },
   "outputs": [
    {
     "data": {
      "text/plain": [
       "10"
      ]
     },
     "execution_count": 24,
     "metadata": {},
     "output_type": "execute_result"
    }
   ],
   "source": [
    "my_arr.size"
   ]
  },
  {
   "cell_type": "markdown",
   "id": "7a7a3f56",
   "metadata": {
    "ExecuteTime": {
     "end_time": "2022-08-21T12:02:18.717588Z",
     "start_time": "2022-08-21T12:02:18.700601Z"
    }
   },
   "source": [
    "### Itemize\n",
    "* Bir dizi öğesinin bayt cinsinden uzunluğunu verir"
   ]
  },
  {
   "cell_type": "code",
   "execution_count": 25,
   "id": "ecab3425",
   "metadata": {
    "ExecuteTime": {
     "end_time": "2022-08-23T09:04:10.440421Z",
     "start_time": "2022-08-23T09:04:10.423422Z"
    }
   },
   "outputs": [
    {
     "data": {
      "text/plain": [
       "4"
      ]
     },
     "execution_count": 25,
     "metadata": {},
     "output_type": "execute_result"
    }
   ],
   "source": [
    "my_arr.itemsize"
   ]
  },
  {
   "cell_type": "markdown",
   "id": "a7d2dc22",
   "metadata": {},
   "source": [
    "###  Ravel\n",
    "* Tüm diziyi tek bir sütunda birleştirir."
   ]
  },
  {
   "cell_type": "code",
   "execution_count": 26,
   "id": "ea7a754b",
   "metadata": {
    "ExecuteTime": {
     "end_time": "2022-08-23T09:04:10.456451Z",
     "start_time": "2022-08-23T09:04:10.450421Z"
    }
   },
   "outputs": [
    {
     "data": {
      "text/plain": [
       "array([[21, 61, 62, 26,  2],\n",
       "       [68, 69, 64, 91, 78],\n",
       "       [26, 72, 42, 93, 62],\n",
       "       [ 7, 36, 58, 10,  5]])"
      ]
     },
     "execution_count": 26,
     "metadata": {},
     "output_type": "execute_result"
    }
   ],
   "source": [
    "arr=np.random.randint(100, size = (4,5))\n",
    "arr"
   ]
  },
  {
   "cell_type": "code",
   "execution_count": 27,
   "id": "7e34aef6",
   "metadata": {
    "ExecuteTime": {
     "end_time": "2022-08-23T09:04:10.472453Z",
     "start_time": "2022-08-23T09:04:10.467453Z"
    }
   },
   "outputs": [
    {
     "data": {
      "text/plain": [
       "array([21, 61, 62, 26,  2, 68, 69, 64, 91, 78, 26, 72, 42, 93, 62,  7, 36,\n",
       "       58, 10,  5])"
      ]
     },
     "execution_count": 27,
     "metadata": {},
     "output_type": "execute_result"
    }
   ],
   "source": [
    "arr.ravel()"
   ]
  },
  {
   "cell_type": "markdown",
   "id": "8502d894",
   "metadata": {},
   "source": [
    "### Sort\n",
    "* Bir dizinin sıralanmış bir kopyasını döndürür."
   ]
  },
  {
   "cell_type": "code",
   "execution_count": 29,
   "id": "f5960e62",
   "metadata": {
    "ExecuteTime": {
     "end_time": "2022-08-23T09:18:51.755169Z",
     "start_time": "2022-08-23T09:18:51.751076Z"
    }
   },
   "outputs": [
    {
     "data": {
      "text/plain": [
       "array([36, 36, 30, 87, 95])"
      ]
     },
     "execution_count": 29,
     "metadata": {},
     "output_type": "execute_result"
    }
   ],
   "source": [
    "Arr = np.random.randint(5, 100, 5)\n",
    "Arr"
   ]
  },
  {
   "cell_type": "code",
   "execution_count": 30,
   "id": "ab3f0969",
   "metadata": {
    "ExecuteTime": {
     "end_time": "2022-08-23T09:18:55.703819Z",
     "start_time": "2022-08-23T09:18:55.686046Z"
    }
   },
   "outputs": [
    {
     "data": {
      "text/plain": [
       "array([30, 36, 36, 87, 95])"
      ]
     },
     "execution_count": 30,
     "metadata": {},
     "output_type": "execute_result"
    }
   ],
   "source": [
    "np.sort(Arr)"
   ]
  },
  {
   "cell_type": "code",
   "execution_count": 34,
   "id": "69016718",
   "metadata": {
    "ExecuteTime": {
     "end_time": "2022-08-23T09:24:42.927300Z",
     "start_time": "2022-08-23T09:24:42.923180Z"
    }
   },
   "outputs": [
    {
     "data": {
      "text/plain": [
       "array([36, 36, 30, 87, 95])"
      ]
     },
     "execution_count": 34,
     "metadata": {},
     "output_type": "execute_result"
    }
   ],
   "source": [
    "Arr"
   ]
  },
  {
   "cell_type": "code",
   "execution_count": 31,
   "id": "3b688794",
   "metadata": {
    "ExecuteTime": {
     "end_time": "2022-08-23T09:20:03.029492Z",
     "start_time": "2022-08-23T09:20:03.021492Z"
    }
   },
   "outputs": [
    {
     "data": {
      "text/plain": [
       "array([[77, 43, 27],\n",
       "       [18, 53, 20],\n",
       "       [38, 58, 37]])"
      ]
     },
     "execution_count": 31,
     "metadata": {},
     "output_type": "execute_result"
    }
   ],
   "source": [
    "arr_2d = np.random.randint(5, 100, (3, 3))\n",
    "arr_2d"
   ]
  },
  {
   "cell_type": "code",
   "execution_count": 32,
   "id": "8dfa8be0",
   "metadata": {
    "ExecuteTime": {
     "end_time": "2022-08-23T09:20:04.312367Z",
     "start_time": "2022-08-23T09:20:04.298380Z"
    }
   },
   "outputs": [
    {
     "data": {
      "text/plain": [
       "array([[18, 43, 20],\n",
       "       [38, 53, 27],\n",
       "       [77, 58, 37]])"
      ]
     },
     "execution_count": 32,
     "metadata": {},
     "output_type": "execute_result"
    }
   ],
   "source": [
    "np.sort(arr_2d,axis=0) # Satırlar yukarıdan aşağıya ve sütuna göre sıralanır. Satır boyunca çalıstı"
   ]
  },
  {
   "cell_type": "code",
   "execution_count": 33,
   "id": "797108fa",
   "metadata": {
    "ExecuteTime": {
     "end_time": "2022-08-23T09:20:16.333041Z",
     "start_time": "2022-08-23T09:20:16.314938Z"
    }
   },
   "outputs": [
    {
     "data": {
      "text/plain": [
       "array([[27, 43, 77],\n",
       "       [18, 20, 53],\n",
       "       [37, 38, 58]])"
      ]
     },
     "execution_count": 33,
     "metadata": {},
     "output_type": "execute_result"
    }
   ],
   "source": [
    "np.sort(arr_2d, axis=1) # sütunlar soldan sağa ve satır satır sıralanır. Sütün boyunca Çalıstı"
   ]
  },
  {
   "cell_type": "markdown",
   "id": "b4226203",
   "metadata": {},
   "source": [
    "### Transpozu\n",
    "* Matrisin Transpuzunu alır."
   ]
  },
  {
   "cell_type": "code",
   "execution_count": 111,
   "id": "7f44a70d",
   "metadata": {
    "ExecuteTime": {
     "end_time": "2022-08-23T12:31:56.422851Z",
     "start_time": "2022-08-23T12:31:56.416852Z"
    }
   },
   "outputs": [
    {
     "data": {
      "text/plain": [
       "array([[19, 10, 11],\n",
       "       [ 6, 20, 16]])"
      ]
     },
     "execution_count": 111,
     "metadata": {},
     "output_type": "execute_result"
    }
   ],
   "source": [
    "Arr"
   ]
  },
  {
   "cell_type": "code",
   "execution_count": 110,
   "id": "612d2aea",
   "metadata": {
    "ExecuteTime": {
     "end_time": "2022-08-23T12:19:07.588138Z",
     "start_time": "2022-08-23T12:19:07.583137Z"
    }
   },
   "outputs": [
    {
     "data": {
      "text/plain": [
       "array([[19,  6],\n",
       "       [10, 20],\n",
       "       [11, 16]])"
      ]
     },
     "execution_count": 110,
     "metadata": {},
     "output_type": "execute_result"
    }
   ],
   "source": [
    "Arr.T"
   ]
  },
  {
   "cell_type": "markdown",
   "id": "5b7744ff",
   "metadata": {},
   "source": [
    "## Concatenation\n",
    "\n",
    "* Birleştirme işlemiyle, iki veya daha fazla matris içeriğini tek bir dizide birleştirebiliriz.\n",
    "* Numpy’da ise dizileri eksenlerle birleştiririz."
   ]
  },
  {
   "cell_type": "code",
   "execution_count": 39,
   "id": "a12fa4c8",
   "metadata": {
    "ExecuteTime": {
     "end_time": "2022-08-23T09:36:29.380798Z",
     "start_time": "2022-08-23T09:36:29.367799Z"
    }
   },
   "outputs": [],
   "source": [
    "x = np.array([1, 2, 3])\n",
    "y = np.array([4, 5, 6])\n",
    "z = np.array([7, 8, 9])"
   ]
  },
  {
   "cell_type": "code",
   "execution_count": 40,
   "id": "20b4ba32",
   "metadata": {
    "ExecuteTime": {
     "end_time": "2022-08-23T09:36:29.988683Z",
     "start_time": "2022-08-23T09:36:29.970130Z"
    }
   },
   "outputs": [
    {
     "data": {
      "text/plain": [
       "array([1, 2, 3, 4, 5, 6, 7, 8, 9])"
      ]
     },
     "execution_count": 40,
     "metadata": {},
     "output_type": "execute_result"
    }
   ],
   "source": [
    "np.concatenate([x, y, z], axis=0)"
   ]
  },
  {
   "cell_type": "code",
   "execution_count": 42,
   "id": "e010b1e4",
   "metadata": {
    "ExecuteTime": {
     "end_time": "2022-08-23T09:36:58.459926Z",
     "start_time": "2022-08-23T09:36:58.285898Z"
    }
   },
   "outputs": [
    {
     "ename": "AxisError",
     "evalue": "axis 1 is out of bounds for array of dimension 1",
     "output_type": "error",
     "traceback": [
      "\u001b[1;31m---------------------------------------------------------------------------\u001b[0m",
      "\u001b[1;31mAxisError\u001b[0m                                 Traceback (most recent call last)",
      "\u001b[1;32m~\\AppData\\Local\\Temp/ipykernel_32656/428561264.py\u001b[0m in \u001b[0;36m<module>\u001b[1;34m\u001b[0m\n\u001b[1;32m----> 1\u001b[1;33m \u001b[0mnp\u001b[0m\u001b[1;33m.\u001b[0m\u001b[0mconcatenate\u001b[0m\u001b[1;33m(\u001b[0m\u001b[1;33m[\u001b[0m\u001b[0mx\u001b[0m\u001b[1;33m,\u001b[0m \u001b[0my\u001b[0m\u001b[1;33m,\u001b[0m \u001b[0mz\u001b[0m\u001b[1;33m]\u001b[0m\u001b[1;33m,\u001b[0m \u001b[0maxis\u001b[0m \u001b[1;33m=\u001b[0m \u001b[1;36m1\u001b[0m\u001b[1;33m)\u001b[0m \u001b[1;31m# Hata verir boyut bilgileri aynı değil\u001b[0m\u001b[1;33m\u001b[0m\u001b[1;33m\u001b[0m\u001b[0m\n\u001b[0m",
      "\u001b[1;32m<__array_function__ internals>\u001b[0m in \u001b[0;36mconcatenate\u001b[1;34m(*args, **kwargs)\u001b[0m\n",
      "\u001b[1;31mAxisError\u001b[0m: axis 1 is out of bounds for array of dimension 1"
     ]
    }
   ],
   "source": [
    "np.concatenate([x, y, z], axis = 1) # Boyut hatası verir "
   ]
  },
  {
   "cell_type": "code",
   "execution_count": 41,
   "id": "dae826ac",
   "metadata": {
    "ExecuteTime": {
     "end_time": "2022-08-23T09:36:44.546083Z",
     "start_time": "2022-08-23T09:36:44.531969Z"
    }
   },
   "outputs": [
    {
     "data": {
      "text/plain": [
       "(3,)"
      ]
     },
     "execution_count": 41,
     "metadata": {},
     "output_type": "execute_result"
    }
   ],
   "source": [
    "x.shape"
   ]
  },
  {
   "cell_type": "code",
   "execution_count": 43,
   "id": "9972484d",
   "metadata": {
    "ExecuteTime": {
     "end_time": "2022-08-23T09:37:22.320804Z",
     "start_time": "2022-08-23T09:37:22.313778Z"
    }
   },
   "outputs": [
    {
     "data": {
      "text/plain": [
       "array([[1, 2, 3],\n",
       "       [4, 5, 6],\n",
       "       [7, 8, 9]])"
      ]
     },
     "execution_count": 43,
     "metadata": {},
     "output_type": "execute_result"
    }
   ],
   "source": [
    "np.concatenate([x.reshape(1, 3), y.reshape(1, 3), z.reshape(1, 3)], axis = 0)"
   ]
  },
  {
   "cell_type": "markdown",
   "id": "b9743fe7",
   "metadata": {},
   "source": [
    "###  2D Boyutta birleştirme"
   ]
  },
  {
   "cell_type": "code",
   "execution_count": 93,
   "id": "a32130c5",
   "metadata": {
    "ExecuteTime": {
     "end_time": "2022-08-23T12:15:32.024430Z",
     "start_time": "2022-08-23T12:15:32.017452Z"
    }
   },
   "outputs": [],
   "source": [
    "Arr_1 = np.random.randint(25, size=(2, 3))\n",
    "Arr_2 = np.random.randint(25, size=(2, 3))"
   ]
  },
  {
   "cell_type": "code",
   "execution_count": 36,
   "id": "3ca27749",
   "metadata": {
    "ExecuteTime": {
     "end_time": "2022-08-23T09:28:54.001387Z",
     "start_time": "2022-08-23T09:28:53.996387Z"
    }
   },
   "outputs": [
    {
     "data": {
      "text/plain": [
       "(array([[ 3,  6, 21],\n",
       "        [ 9, 11, 22]]),\n",
       " array([[24, 13, 17],\n",
       "        [ 9, 12, 14]]))"
      ]
     },
     "execution_count": 36,
     "metadata": {},
     "output_type": "execute_result"
    }
   ],
   "source": [
    "Arr_1,Arr_2"
   ]
  },
  {
   "cell_type": "code",
   "execution_count": 37,
   "id": "3ec9a838",
   "metadata": {
    "ExecuteTime": {
     "end_time": "2022-08-23T09:29:01.424480Z",
     "start_time": "2022-08-23T09:29:01.414479Z"
    }
   },
   "outputs": [
    {
     "data": {
      "text/plain": [
       "array([[ 3,  6, 21],\n",
       "       [ 9, 11, 22],\n",
       "       [24, 13, 17],\n",
       "       [ 9, 12, 14]])"
      ]
     },
     "execution_count": 37,
     "metadata": {},
     "output_type": "execute_result"
    }
   ],
   "source": [
    "np.concatenate([Arr_1,Arr_2], axis=0)    "
   ]
  },
  {
   "cell_type": "code",
   "execution_count": 38,
   "id": "ef23e689",
   "metadata": {
    "ExecuteTime": {
     "end_time": "2022-08-23T09:29:11.059896Z",
     "start_time": "2022-08-23T09:29:11.053743Z"
    }
   },
   "outputs": [
    {
     "data": {
      "text/plain": [
       "array([[ 3,  6, 21, 24, 13, 17],\n",
       "       [ 9, 11, 22,  9, 12, 14]])"
      ]
     },
     "execution_count": 38,
     "metadata": {},
     "output_type": "execute_result"
    }
   ],
   "source": [
    "np.concatenate([Arr_1, Arr_2], axis=1)"
   ]
  },
  {
   "cell_type": "markdown",
   "id": "ba5054cc",
   "metadata": {},
   "source": [
    "## Numpy Indexing & Selection\n",
    "* Bir diziden elemanların veya eleman gruplarının seçilmesi."
   ]
  },
  {
   "attachments": {
    "index.png": {
     "image/png": "[encoded data removed]"
    }
   },
   "cell_type": "markdown",
   "id": "fa28baf6",
   "metadata": {
    "ExecuteTime": {
     "end_time": "2022-08-23T09:47:47.731084Z",
     "start_time": "2022-08-23T09:47:47.716994Z"
    }
   },
   "source": [
    "### Temel Dilimleme ve indeksleme\n",
    "\n",
    "![index.png](attachment:index.png)"
   ]
  },
  {
   "cell_type": "code",
   "execution_count": 46,
   "id": "71d69b02",
   "metadata": {
    "ExecuteTime": {
     "end_time": "2022-08-23T09:48:44.029669Z",
     "start_time": "2022-08-23T09:48:44.021641Z"
    }
   },
   "outputs": [
    {
     "data": {
      "text/plain": [
       "array([ 0,  1,  2,  3,  4,  5,  6,  7,  8,  9, 10])"
      ]
     },
     "execution_count": 46,
     "metadata": {},
     "output_type": "execute_result"
    }
   ],
   "source": [
    "arr = np.arange(0, 11)\n",
    "arr"
   ]
  },
  {
   "cell_type": "code",
   "execution_count": 47,
   "id": "1df11f0a",
   "metadata": {
    "ExecuteTime": {
     "end_time": "2022-08-23T09:48:45.941970Z",
     "start_time": "2022-08-23T09:48:45.938996Z"
    }
   },
   "outputs": [
    {
     "data": {
      "text/plain": [
       "8"
      ]
     },
     "execution_count": 47,
     "metadata": {},
     "output_type": "execute_result"
    }
   ],
   "source": [
    "arr[8]"
   ]
  },
  {
   "cell_type": "code",
   "execution_count": 48,
   "id": "5b222c32",
   "metadata": {
    "ExecuteTime": {
     "end_time": "2022-08-23T09:48:50.731078Z",
     "start_time": "2022-08-23T09:48:50.723049Z"
    }
   },
   "outputs": [
    {
     "data": {
      "text/plain": [
       "10"
      ]
     },
     "execution_count": 48,
     "metadata": {},
     "output_type": "execute_result"
    }
   ],
   "source": [
    "arr[-1]"
   ]
  },
  {
   "cell_type": "markdown",
   "id": "c748e6c0",
   "metadata": {},
   "source": [
    "### Slice arr[start:stop:step]"
   ]
  },
  {
   "cell_type": "code",
   "execution_count": 50,
   "id": "095bada1",
   "metadata": {
    "ExecuteTime": {
     "end_time": "2022-08-23T10:11:32.881794Z",
     "start_time": "2022-08-23T10:11:32.870794Z"
    }
   },
   "outputs": [
    {
     "data": {
      "text/plain": [
       "array([1, 2, 3, 4])"
      ]
     },
     "execution_count": 50,
     "metadata": {},
     "output_type": "execute_result"
    }
   ],
   "source": [
    "arr[1:5]"
   ]
  },
  {
   "cell_type": "code",
   "execution_count": 51,
   "id": "be4152c0",
   "metadata": {
    "ExecuteTime": {
     "end_time": "2022-08-23T10:11:40.087168Z",
     "start_time": "2022-08-23T10:11:40.077536Z"
    }
   },
   "outputs": [
    {
     "data": {
      "text/plain": [
       "array([ 0,  2,  4,  6,  8, 10])"
      ]
     },
     "execution_count": 51,
     "metadata": {},
     "output_type": "execute_result"
    }
   ],
   "source": [
    "arr[0::2]"
   ]
  },
  {
   "attachments": {},
   "cell_type": "markdown",
   "id": "4805e167",
   "metadata": {},
   "source": [
    "### 2D Boyutta indexleme Ve Seçme\n"
   ]
  },
  {
   "attachments": {
    "2d_index_basic.png": {
     "image/png": "[encoded data removed]"
    }
   },
   "cell_type": "markdown",
   "id": "c7ba2876",
   "metadata": {},
   "source": [
    "![2d_index_basic.png](attachment:2d_index_basic.png)"
   ]
  },
  {
   "cell_type": "code",
   "execution_count": 58,
   "id": "ffd35952",
   "metadata": {
    "ExecuteTime": {
     "end_time": "2022-08-23T10:21:44.597756Z",
     "start_time": "2022-08-23T10:21:44.581727Z"
    }
   },
   "outputs": [
    {
     "data": {
      "text/plain": [
       "array([[45, 19, 65],\n",
       "       [ 0, 15, 37],\n",
       "       [30, 49, 53]])"
      ]
     },
     "execution_count": 58,
     "metadata": {},
     "output_type": "execute_result"
    }
   ],
   "source": [
    "arr_2d = np.array([[45, 19, 65], [0, 15, 37], [30, 49, 53]])\n",
    "arr_2d"
   ]
  },
  {
   "cell_type": "code",
   "execution_count": null,
   "id": "aa3e4162",
   "metadata": {},
   "outputs": [],
   "source": [
    "# arr_2d[row]  arr_2d[row][col] or arr_2d[row, col] "
   ]
  },
  {
   "cell_type": "code",
   "execution_count": 55,
   "id": "349d32da",
   "metadata": {
    "ExecuteTime": {
     "end_time": "2022-08-23T10:20:38.921022Z",
     "start_time": "2022-08-23T10:20:38.908023Z"
    }
   },
   "outputs": [
    {
     "data": {
      "text/plain": [
       "array([ 0, 15, 37])"
      ]
     },
     "execution_count": 55,
     "metadata": {},
     "output_type": "execute_result"
    }
   ],
   "source": [
    "arr_2d[1]"
   ]
  },
  {
   "cell_type": "code",
   "execution_count": 56,
   "id": "b2354718",
   "metadata": {
    "ExecuteTime": {
     "end_time": "2022-08-23T10:20:39.900771Z",
     "start_time": "2022-08-23T10:20:39.889658Z"
    }
   },
   "outputs": [
    {
     "data": {
      "text/plain": [
       "37"
      ]
     },
     "execution_count": 56,
     "metadata": {},
     "output_type": "execute_result"
    }
   ],
   "source": [
    "arr_2d[1][2]"
   ]
  },
  {
   "cell_type": "code",
   "execution_count": 57,
   "id": "fe0cd1f8",
   "metadata": {
    "ExecuteTime": {
     "end_time": "2022-08-23T10:20:40.762777Z",
     "start_time": "2022-08-23T10:20:40.747960Z"
    }
   },
   "outputs": [
    {
     "data": {
      "text/plain": [
       "37"
      ]
     },
     "execution_count": 57,
     "metadata": {},
     "output_type": "execute_result"
    }
   ],
   "source": [
    "arr_2d[1, 2]"
   ]
  },
  {
   "attachments": {},
   "cell_type": "markdown",
   "id": "2ffb25b7",
   "metadata": {},
   "source": [
    "### Slice 2d\n"
   ]
  },
  {
   "attachments": {
    "2d_index.png": {
     "image/png": "[encoded data removed]"
    }
   },
   "cell_type": "markdown",
   "id": "b6979362",
   "metadata": {
    "ExecuteTime": {
     "end_time": "2022-08-23T10:18:44.523923Z",
     "start_time": "2022-08-23T10:18:44.505896Z"
    }
   },
   "source": [
    "![2d_index.png](attachment:2d_index.png)"
   ]
  },
  {
   "cell_type": "code",
   "execution_count": 59,
   "id": "b4db4e25",
   "metadata": {
    "ExecuteTime": {
     "end_time": "2022-08-23T10:22:10.378100Z",
     "start_time": "2022-08-23T10:22:10.365891Z"
    }
   },
   "outputs": [
    {
     "data": {
      "text/plain": [
       "array([[45, 19, 65],\n",
       "       [ 0, 15, 37],\n",
       "       [30, 49, 53]])"
      ]
     },
     "execution_count": 59,
     "metadata": {},
     "output_type": "execute_result"
    }
   ],
   "source": [
    "arr_2d"
   ]
  },
  {
   "cell_type": "code",
   "execution_count": 60,
   "id": "0126dea6",
   "metadata": {
    "ExecuteTime": {
     "end_time": "2022-08-23T10:22:11.102071Z",
     "start_time": "2022-08-23T10:22:11.090557Z"
    }
   },
   "outputs": [
    {
     "data": {
      "text/plain": [
       "array([[19, 65],\n",
       "       [15, 37]])"
      ]
     },
     "execution_count": 60,
     "metadata": {},
     "output_type": "execute_result"
    }
   ],
   "source": [
    "arr_2d[0:2, 1:]"
   ]
  },
  {
   "cell_type": "code",
   "execution_count": 61,
   "id": "f4515fb7",
   "metadata": {
    "ExecuteTime": {
     "end_time": "2022-08-23T10:22:52.748529Z",
     "start_time": "2022-08-23T10:22:52.740530Z"
    }
   },
   "outputs": [
    {
     "data": {
      "text/plain": [
       "array([19, 15, 49])"
      ]
     },
     "execution_count": 61,
     "metadata": {},
     "output_type": "execute_result"
    }
   ],
   "source": [
    "arr_2d[:, 1]"
   ]
  },
  {
   "cell_type": "markdown",
   "id": "df826cd5",
   "metadata": {},
   "source": [
    "### Fancy Indexing"
   ]
  },
  {
   "cell_type": "markdown",
   "id": "6c986641",
   "metadata": {},
   "source": [
    "* Fancy indeksleme kavramsal olarak basittir:\n",
    "* Aynı anda birden çok dizi öğesine erişmek için bir dizi dizini geçmek anlamına gelir."
   ]
  },
  {
   "cell_type": "code",
   "execution_count": 62,
   "id": "88d6484f",
   "metadata": {
    "ExecuteTime": {
     "end_time": "2022-08-23T10:26:53.905398Z",
     "start_time": "2022-08-23T10:26:53.896389Z"
    }
   },
   "outputs": [
    {
     "data": {
      "text/plain": [
       "array([ 0,  2,  4,  6,  8, 10, 12, 14, 16, 18, 20, 22, 24, 26, 28])"
      ]
     },
     "execution_count": 62,
     "metadata": {},
     "output_type": "execute_result"
    }
   ],
   "source": [
    "x = np.arange(0, 30, 2)\n",
    "x"
   ]
  },
  {
   "cell_type": "code",
   "execution_count": 66,
   "id": "54451c8f",
   "metadata": {
    "ExecuteTime": {
     "end_time": "2022-08-23T10:27:51.699190Z",
     "start_time": "2022-08-23T10:27:51.685134Z"
    }
   },
   "outputs": [],
   "source": [
    "index_list=[1, 2, 3, 5, 7, 9,12,14]"
   ]
  },
  {
   "cell_type": "code",
   "execution_count": 67,
   "id": "78256131",
   "metadata": {
    "ExecuteTime": {
     "end_time": "2022-08-23T10:27:52.374807Z",
     "start_time": "2022-08-23T10:27:52.358805Z"
    }
   },
   "outputs": [
    {
     "data": {
      "text/plain": [
       "array([ 2,  4,  6, 10, 14, 18, 24, 28])"
      ]
     },
     "execution_count": 67,
     "metadata": {},
     "output_type": "execute_result"
    }
   ],
   "source": [
    "x[index_list]"
   ]
  },
  {
   "cell_type": "markdown",
   "id": "216bdf12",
   "metadata": {},
   "source": [
    "### Selection on a Condition\n",
    "* Kosula bağlı indexleme"
   ]
  },
  {
   "cell_type": "code",
   "execution_count": 68,
   "id": "5109741f",
   "metadata": {
    "ExecuteTime": {
     "end_time": "2022-08-23T10:29:17.306229Z",
     "start_time": "2022-08-23T10:29:17.293854Z"
    }
   },
   "outputs": [
    {
     "data": {
      "text/plain": [
       "array([ 1,  3,  5,  7,  9, 11, 13, 15, 17, 19, 21, 23, 25, 27, 29, 31, 33,\n",
       "       35, 37, 39])"
      ]
     },
     "execution_count": 68,
     "metadata": {},
     "output_type": "execute_result"
    }
   ],
   "source": [
    "arr = np.arange(1, 41, 2)\n",
    "arr"
   ]
  },
  {
   "cell_type": "code",
   "execution_count": 69,
   "id": "c5db2ad2",
   "metadata": {
    "ExecuteTime": {
     "end_time": "2022-08-23T10:29:18.304108Z",
     "start_time": "2022-08-23T10:29:18.298108Z"
    }
   },
   "outputs": [
    {
     "data": {
      "text/plain": [
       "array([False, False, False, False, False, False, False, False,  True,\n",
       "        True,  True,  True,  True,  True,  True,  True,  True,  True,\n",
       "        True,  True])"
      ]
     },
     "execution_count": 69,
     "metadata": {},
     "output_type": "execute_result"
    }
   ],
   "source": [
    "arr > 15"
   ]
  },
  {
   "cell_type": "code",
   "execution_count": 72,
   "id": "4a29567f",
   "metadata": {
    "ExecuteTime": {
     "end_time": "2022-08-23T10:29:27.234384Z",
     "start_time": "2022-08-23T10:29:27.218383Z"
    }
   },
   "outputs": [],
   "source": [
    "bool_arr = arr > 15"
   ]
  },
  {
   "cell_type": "code",
   "execution_count": 73,
   "id": "3ea1e423",
   "metadata": {
    "ExecuteTime": {
     "end_time": "2022-08-23T10:29:28.564563Z",
     "start_time": "2022-08-23T10:29:28.552531Z"
    }
   },
   "outputs": [
    {
     "data": {
      "text/plain": [
       "array([17, 19, 21, 23, 25, 27, 29, 31, 33, 35, 37, 39])"
      ]
     },
     "execution_count": 73,
     "metadata": {},
     "output_type": "execute_result"
    }
   ],
   "source": [
    "arr[bool_arr]"
   ]
  },
  {
   "cell_type": "code",
   "execution_count": 74,
   "id": "f8ecc3a6",
   "metadata": {
    "ExecuteTime": {
     "end_time": "2022-08-23T10:29:49.838259Z",
     "start_time": "2022-08-23T10:29:49.831194Z"
    }
   },
   "outputs": [
    {
     "data": {
      "text/plain": [
       "array([ 1,  7,  9, 11, 13, 15, 17, 19, 21, 23, 25, 27, 29, 31, 33, 35, 37,\n",
       "       39])"
      ]
     },
     "execution_count": 74,
     "metadata": {},
     "output_type": "execute_result"
    }
   ],
   "source": [
    "# # and ==> &\n",
    "arr[(arr != 3) & (arr != 5)]"
   ]
  },
  {
   "cell_type": "code",
   "execution_count": 77,
   "id": "b75a7123",
   "metadata": {
    "ExecuteTime": {
     "end_time": "2022-08-23T12:01:10.213798Z",
     "start_time": "2022-08-23T12:01:10.204315Z"
    }
   },
   "outputs": [
    {
     "data": {
      "text/plain": [
       "array([3, 5])"
      ]
     },
     "execution_count": 77,
     "metadata": {},
     "output_type": "execute_result"
    }
   ],
   "source": [
    "# or ==> |\n",
    "arr[(arr == 3) | (arr == 5)]"
   ]
  },
  {
   "cell_type": "markdown",
   "id": "afaca327",
   "metadata": {},
   "source": [
    "## Numpy Operations"
   ]
  },
  {
   "cell_type": "markdown",
   "id": "0bc8886a",
   "metadata": {},
   "source": [
    "### Aritmetik işlemler"
   ]
  },
  {
   "cell_type": "code",
   "execution_count": 78,
   "id": "5de5717f",
   "metadata": {
    "ExecuteTime": {
     "end_time": "2022-08-23T12:11:35.696814Z",
     "start_time": "2022-08-23T12:11:35.688681Z"
    }
   },
   "outputs": [
    {
     "data": {
      "text/plain": [
       "array([ 1,  3,  5,  7,  9, 11, 13, 15, 17, 19])"
      ]
     },
     "execution_count": 78,
     "metadata": {},
     "output_type": "execute_result"
    }
   ],
   "source": [
    "arr = np.arange(1, 20, 2)\n",
    "arr"
   ]
  },
  {
   "cell_type": "code",
   "execution_count": 79,
   "id": "bcc47271",
   "metadata": {
    "ExecuteTime": {
     "end_time": "2022-08-23T12:11:36.474506Z",
     "start_time": "2022-08-23T12:11:36.464509Z"
    }
   },
   "outputs": [
    {
     "data": {
      "text/plain": [
       "array([ 2,  6, 10, 14, 18, 22, 26, 30, 34, 38])"
      ]
     },
     "execution_count": 79,
     "metadata": {},
     "output_type": "execute_result"
    }
   ],
   "source": [
    "arr + arr"
   ]
  },
  {
   "cell_type": "code",
   "execution_count": 80,
   "id": "92504e43",
   "metadata": {
    "ExecuteTime": {
     "end_time": "2022-08-23T12:11:36.867723Z",
     "start_time": "2022-08-23T12:11:36.861762Z"
    }
   },
   "outputs": [
    {
     "data": {
      "text/plain": [
       "array([  1,   9,  25,  49,  81, 121, 169, 225, 289, 361])"
      ]
     },
     "execution_count": 80,
     "metadata": {},
     "output_type": "execute_result"
    }
   ],
   "source": [
    "arr * arr"
   ]
  },
  {
   "cell_type": "code",
   "execution_count": 81,
   "id": "755218c5",
   "metadata": {
    "ExecuteTime": {
     "end_time": "2022-08-23T12:11:37.243730Z",
     "start_time": "2022-08-23T12:11:37.238731Z"
    }
   },
   "outputs": [
    {
     "data": {
      "text/plain": [
       "array([0, 0, 0, 0, 0, 0, 0, 0, 0, 0])"
      ]
     },
     "execution_count": 81,
     "metadata": {},
     "output_type": "execute_result"
    }
   ],
   "source": [
    "arr - arr"
   ]
  },
  {
   "cell_type": "code",
   "execution_count": 82,
   "id": "aeed6fff",
   "metadata": {
    "ExecuteTime": {
     "end_time": "2022-08-23T12:11:37.669475Z",
     "start_time": "2022-08-23T12:11:37.651475Z"
    }
   },
   "outputs": [
    {
     "data": {
      "text/plain": [
       "array([1., 1., 1., 1., 1., 1., 1., 1., 1., 1.])"
      ]
     },
     "execution_count": 82,
     "metadata": {},
     "output_type": "execute_result"
    }
   ],
   "source": [
    "arr / arr"
   ]
  },
  {
   "cell_type": "code",
   "execution_count": 83,
   "id": "577d15ee",
   "metadata": {
    "ExecuteTime": {
     "end_time": "2022-08-23T12:11:58.611628Z",
     "start_time": "2022-08-23T12:11:58.600123Z"
    }
   },
   "outputs": [
    {
     "data": {
      "text/plain": [
       "array([  1,   9,  25,  49,  81, 121, 169, 225, 289, 361], dtype=int32)"
      ]
     },
     "execution_count": 83,
     "metadata": {},
     "output_type": "execute_result"
    }
   ],
   "source": [
    "arr ** 2"
   ]
  },
  {
   "cell_type": "code",
   "execution_count": 84,
   "id": "1a4b12d4",
   "metadata": {
    "ExecuteTime": {
     "end_time": "2022-08-23T12:12:06.013225Z",
     "start_time": "2022-08-23T12:12:05.998189Z"
    }
   },
   "outputs": [
    {
     "data": {
      "text/plain": [
       "array([-1,  1,  3,  5,  7,  9, 11, 13, 15, 17])"
      ]
     },
     "execution_count": 84,
     "metadata": {},
     "output_type": "execute_result"
    }
   ],
   "source": [
    "arr - 2"
   ]
  },
  {
   "cell_type": "code",
   "execution_count": 85,
   "id": "040bffca",
   "metadata": {
    "ExecuteTime": {
     "end_time": "2022-08-23T12:12:06.724268Z",
     "start_time": "2022-08-23T12:12:06.719150Z"
    }
   },
   "outputs": [
    {
     "data": {
      "text/plain": [
       "array([ 2,  4,  6,  8, 10, 12, 14, 16, 18, 20])"
      ]
     },
     "execution_count": 85,
     "metadata": {},
     "output_type": "execute_result"
    }
   ],
   "source": [
    "arr + 1"
   ]
  },
  {
   "cell_type": "markdown",
   "id": "382ed7c0",
   "metadata": {},
   "source": [
    "### Fonksiyonlarla işlemler"
   ]
  },
  {
   "cell_type": "code",
   "execution_count": 86,
   "id": "ea577259",
   "metadata": {
    "ExecuteTime": {
     "end_time": "2022-08-23T12:14:55.024256Z",
     "start_time": "2022-08-23T12:14:55.010257Z"
    }
   },
   "outputs": [
    {
     "data": {
      "text/plain": [
       "array([ 0,  2,  4,  6,  8, 10, 12, 14, 16, 18])"
      ]
     },
     "execution_count": 86,
     "metadata": {},
     "output_type": "execute_result"
    }
   ],
   "source": [
    "np.subtract(arr, 1)"
   ]
  },
  {
   "cell_type": "code",
   "execution_count": 87,
   "id": "cbbd34a0",
   "metadata": {
    "ExecuteTime": {
     "end_time": "2022-08-23T12:14:55.309173Z",
     "start_time": "2022-08-23T12:14:55.293143Z"
    }
   },
   "outputs": [
    {
     "data": {
      "text/plain": [
       "array([ 3,  5,  7,  9, 11, 13, 15, 17, 19, 21])"
      ]
     },
     "execution_count": 87,
     "metadata": {},
     "output_type": "execute_result"
    }
   ],
   "source": [
    "np.add(arr, 2)"
   ]
  },
  {
   "cell_type": "code",
   "execution_count": 88,
   "id": "c5367c14",
   "metadata": {
    "ExecuteTime": {
     "end_time": "2022-08-23T12:14:55.639015Z",
     "start_time": "2022-08-23T12:14:55.631005Z"
    }
   },
   "outputs": [
    {
     "data": {
      "text/plain": [
       "array([0.5, 1.5, 2.5, 3.5, 4.5, 5.5, 6.5, 7.5, 8.5, 9.5])"
      ]
     },
     "execution_count": 88,
     "metadata": {},
     "output_type": "execute_result"
    }
   ],
   "source": [
    "np.divide(arr, 2)"
   ]
  },
  {
   "cell_type": "code",
   "execution_count": 89,
   "id": "33233ff7",
   "metadata": {
    "ExecuteTime": {
     "end_time": "2022-08-23T12:14:56.046101Z",
     "start_time": "2022-08-23T12:14:56.027096Z"
    }
   },
   "outputs": [
    {
     "data": {
      "text/plain": [
       "array([ 4, 12, 20, 28, 36, 44, 52, 60, 68, 76])"
      ]
     },
     "execution_count": 89,
     "metadata": {},
     "output_type": "execute_result"
    }
   ],
   "source": [
    "np.multiply(arr, 4)"
   ]
  },
  {
   "cell_type": "code",
   "execution_count": 90,
   "id": "eb3a34ee",
   "metadata": {
    "ExecuteTime": {
     "end_time": "2022-08-23T12:14:56.389247Z",
     "start_time": "2022-08-23T12:14:56.380224Z"
    }
   },
   "outputs": [
    {
     "data": {
      "text/plain": [
       "array([   1,   27,  125,  343,  729, 1331, 2197, 3375, 4913, 6859],\n",
       "      dtype=int32)"
      ]
     },
     "execution_count": 90,
     "metadata": {},
     "output_type": "execute_result"
    }
   ],
   "source": [
    "np.power(arr,3)"
   ]
  },
  {
   "cell_type": "code",
   "execution_count": 92,
   "id": "3be8b3c5",
   "metadata": {
    "ExecuteTime": {
     "end_time": "2022-08-23T12:14:57.739782Z",
     "start_time": "2022-08-23T12:14:57.729753Z"
    }
   },
   "outputs": [
    {
     "data": {
      "text/plain": [
       "array([3, 5, 4, 6])"
      ]
     },
     "execution_count": 92,
     "metadata": {},
     "output_type": "execute_result"
    }
   ],
   "source": [
    "np.absolute([-3,-5,4,6])"
   ]
  },
  {
   "cell_type": "code",
   "execution_count": 107,
   "id": "dc09bcf0",
   "metadata": {
    "ExecuteTime": {
     "end_time": "2022-08-23T12:18:10.748209Z",
     "start_time": "2022-08-23T12:18:10.739180Z"
    }
   },
   "outputs": [
    {
     "data": {
      "text/plain": [
       "array([2.71828183e+00, 2.00855369e+01, 1.48413159e+02, 1.09663316e+03,\n",
       "       8.10308393e+03, 5.98741417e+04, 4.42413392e+05, 3.26901737e+06,\n",
       "       2.41549528e+07, 1.78482301e+08])"
      ]
     },
     "execution_count": 107,
     "metadata": {},
     "output_type": "execute_result"
    }
   ],
   "source": [
    "np.exp(arr)"
   ]
  },
  {
   "cell_type": "code",
   "execution_count": 108,
   "id": "9f4dad24",
   "metadata": {
    "ExecuteTime": {
     "end_time": "2022-08-23T12:18:11.896979Z",
     "start_time": "2022-08-23T12:18:11.886881Z"
    }
   },
   "outputs": [
    {
     "data": {
      "text/plain": [
       "array([0.        , 1.09861229, 1.60943791, 1.94591015, 2.19722458,\n",
       "       2.39789527, 2.56494936, 2.7080502 , 2.83321334, 2.94443898])"
      ]
     },
     "execution_count": 108,
     "metadata": {},
     "output_type": "execute_result"
    }
   ],
   "source": [
    "np.log(arr)"
   ]
  },
  {
   "cell_type": "code",
   "execution_count": 109,
   "id": "01247b88",
   "metadata": {
    "ExecuteTime": {
     "end_time": "2022-08-23T12:18:16.082463Z",
     "start_time": "2022-08-23T12:18:16.070343Z"
    }
   },
   "outputs": [
    {
     "data": {
      "text/plain": [
       "1.0"
      ]
     },
     "execution_count": 109,
     "metadata": {},
     "output_type": "execute_result"
    }
   ],
   "source": [
    "np.sin(np.pi/2)"
   ]
  },
  {
   "cell_type": "markdown",
   "id": "eef46e60",
   "metadata": {},
   "source": [
    "### Statistical Calculations"
   ]
  },
  {
   "cell_type": "code",
   "execution_count": 101,
   "id": "dee51e71",
   "metadata": {
    "ExecuteTime": {
     "end_time": "2022-08-23T12:16:52.709196Z",
     "start_time": "2022-08-23T12:16:52.703197Z"
    }
   },
   "outputs": [
    {
     "data": {
      "text/plain": [
       "array([[19, 10, 11],\n",
       "       [ 6, 20, 16]])"
      ]
     },
     "execution_count": 101,
     "metadata": {},
     "output_type": "execute_result"
    }
   ],
   "source": [
    "Arr = np.random.randint(25, size=(2, 3))\n",
    "Arr"
   ]
  },
  {
   "cell_type": "code",
   "execution_count": 102,
   "id": "b3308c8a",
   "metadata": {
    "ExecuteTime": {
     "end_time": "2022-08-23T12:16:53.888300Z",
     "start_time": "2022-08-23T12:16:53.872284Z"
    }
   },
   "outputs": [
    {
     "data": {
      "text/plain": [
       "13.666666666666666"
      ]
     },
     "execution_count": 102,
     "metadata": {},
     "output_type": "execute_result"
    }
   ],
   "source": [
    "np.mean(Arr)"
   ]
  },
  {
   "cell_type": "code",
   "execution_count": 103,
   "id": "ebb65f91",
   "metadata": {
    "ExecuteTime": {
     "end_time": "2022-08-23T12:16:54.220297Z",
     "start_time": "2022-08-23T12:16:54.204298Z"
    }
   },
   "outputs": [
    {
     "data": {
      "text/plain": [
       "13.5"
      ]
     },
     "execution_count": 103,
     "metadata": {},
     "output_type": "execute_result"
    }
   ],
   "source": [
    "np.median(Arr)"
   ]
  },
  {
   "cell_type": "code",
   "execution_count": 104,
   "id": "1c414992",
   "metadata": {
    "ExecuteTime": {
     "end_time": "2022-08-23T12:16:54.596666Z",
     "start_time": "2022-08-23T12:16:54.582668Z"
    }
   },
   "outputs": [
    {
     "data": {
      "text/plain": [
       "5.055250296034367"
      ]
     },
     "execution_count": 104,
     "metadata": {},
     "output_type": "execute_result"
    }
   ],
   "source": [
    "Arr.std()"
   ]
  },
  {
   "cell_type": "code",
   "execution_count": 105,
   "id": "ada9e4ff",
   "metadata": {
    "ExecuteTime": {
     "end_time": "2022-08-23T12:16:54.973731Z",
     "start_time": "2022-08-23T12:16:54.955731Z"
    }
   },
   "outputs": [
    {
     "data": {
      "text/plain": [
       "6"
      ]
     },
     "execution_count": 105,
     "metadata": {},
     "output_type": "execute_result"
    }
   ],
   "source": [
    "Arr.min()"
   ]
  },
  {
   "cell_type": "code",
   "execution_count": 106,
   "id": "9a41b045",
   "metadata": {
    "ExecuteTime": {
     "end_time": "2022-08-23T12:16:55.318278Z",
     "start_time": "2022-08-23T12:16:55.311274Z"
    }
   },
   "outputs": [
    {
     "data": {
      "text/plain": [
       "20"
      ]
     },
     "execution_count": 106,
     "metadata": {},
     "output_type": "execute_result"
    }
   ],
   "source": [
    "Arr.max()"
   ]
  }
 ],
 "metadata": {
  "kernelspec": {
   "display_name": "Python 3 (ipykernel)",
   "language": "python",
   "name": "python3"
  },
  "language_info": {
   "codemirror_mode": {
    "name": "ipython",
    "version": 3
   },
   "file_extension": ".py",
   "mimetype": "text/x-python",
   "name": "python",
   "nbconvert_exporter": "python",
   "pygments_lexer": "ipython3",
   "version": "3.9.7"
  },
  "nbTranslate": {
   "displayLangs": [
    "*"
   ],
   "hotkey": "alt-t",
   "langInMainMenu": true,
   "sourceLang": "en",
   "targetLang": "fr",
   "useGoogleTranslate": true
  },
  "toc": {
   "base_numbering": 1,
   "nav_menu": {},
   "number_sections": true,
   "sideBar": true,
   "skip_h1_title": false,
   "title_cell": "Table of Contents",
   "title_sidebar": "Contents",
   "toc_cell": false,
   "toc_position": {
    "height": "calc(100% - 180px)",
    "left": "10px",
    "top": "150px",
    "width": "378px"
   },
   "toc_section_display": true,
   "toc_window_display": true
  }
 },
 "nbformat": 4,
 "nbformat_minor": 5
}
